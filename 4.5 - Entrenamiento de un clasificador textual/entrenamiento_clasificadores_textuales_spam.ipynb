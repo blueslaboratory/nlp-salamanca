{
 "cells": [
  {
   "cell_type": "code",
   "execution_count": 49,
   "metadata": {},
   "outputs": [],
   "source": [
    "# 24/01/2024\n",
    "# 4.5 Entrenamiento de un clasificador textual converted CIE\n",
    "\n",
    "# Es de un KAGGLE :D\n",
    "# pip install seaborn"
   ]
  },
  {
   "cell_type": "markdown",
   "metadata": {},
   "source": [
    "# Detección de correos SPAM\n",
    "\n",
    "\n",
    "A continuación se muestra un estudio sobre un filtrado de correos de spam. Se trata de una comparativa de diversos algoritmos de aprendizaje supervisados de clasificación. Previo a este estudio se ha limpiado el texto y se ha hecho uso del Procesamiento del Lenguaje Natural con la libreria *SpaCy* para tokenizar, lemmatizar y vectorizar textos para una mayor facilidad de análisis.\n",
    "\n",
    "\n",
    "El procedimiento seguido es el siguiente: \n",
    "\n",
    "0. Se importa la base de datos \n",
    "1. Limpieza y preprocesado del dataset\n",
    "2. Tokenización \n",
    "3. Lemmatización\n",
    "4. Vectorizacion\n",
    "5. Aplicación de los diferentes algoritmos y visualización de sus resultados\n",
    "6. Comparación de los algoritmos y conclusiones\n",
    "\n",
    "\n",
    "Datos sacados de: (https://www.kaggle.com/code/ranzeet013/spam-message-classification-acc-0-94)"
   ]
  },
  {
   "cell_type": "code",
   "execution_count": 50,
   "metadata": {},
   "outputs": [
    {
     "name": "stderr",
     "output_type": "stream",
     "text": [
      "[nltk_data] Downloading package punkt to\n",
      "[nltk_data]     C:\\Users\\AlejandroDiezRedondo\\AppData\\Roaming\\nltk_dat\n",
      "[nltk_data]     a...\n",
      "[nltk_data]   Package punkt is already up-to-date!\n",
      "[nltk_data] Downloading package stopwords to\n",
      "[nltk_data]     C:\\Users\\AlejandroDiezRedondo\\AppData\\Roaming\\nltk_dat\n",
      "[nltk_data]     a...\n",
      "[nltk_data]   Package stopwords is already up-to-date!\n"
     ]
    }
   ],
   "source": [
    "import pandas as pd\n",
    "import numpy as np\n",
    "import seaborn as sns\n",
    "import matplotlib.pyplot as plt\n",
    "\n",
    "\n",
    "## Importamos sklearn\n",
    "from sklearn.model_selection import train_test_split\n",
    "from sklearn.metrics import accuracy_score\n",
    "from sklearn.metrics import classification_report\n",
    "from sklearn.metrics import confusion_matrix\n",
    "\n",
    "\n",
    "## Vectorizacion\n",
    "from sklearn.feature_extraction.text import TfidfVectorizer\n",
    "\n",
    "\n",
    "## Para aplicar modelos de prediccion\n",
    "from sklearn.linear_model import LogisticRegression\n",
    "from sklearn.naive_bayes import GaussianNB\n",
    "from sklearn.neighbors import KNeighborsClassifier\n",
    "from sklearn.svm import SVC\n",
    "from sklearn import tree\n",
    "\n",
    "\n",
    "## Para evaluar los resultados. \n",
    "from sklearn.metrics import f1_score\n",
    "\n",
    "\n",
    "## Bibliotecas para preprocesar el texto\n",
    "import re\n",
    "\n",
    "\n",
    "## Importamos NLTK\n",
    "import nltk\n",
    "nltk.download('punkt')\n",
    "nltk.download('stopwords')\n",
    "from nltk.corpus import stopwords\n",
    "from nltk import word_tokenize\n",
    "\n",
    "\n",
    "## Importamos spacy\n",
    "import spacy\n",
    "nlp = spacy.load(\"en_core_web_sm\")"
   ]
  },
  {
   "cell_type": "markdown",
   "metadata": {},
   "source": [
    "## 0. Lectura de la base de datos\n",
    "\n",
    "Para este estudio se ha utilizado una base de datos que recoge un total de 5572 correos, etiquetados todos ellos como SPAM O HAM (no spam)"
   ]
  },
  {
   "cell_type": "code",
   "execution_count": 51,
   "metadata": {},
   "outputs": [
    {
     "data": {
      "text/html": [
       "<div>\n",
       "<style scoped>\n",
       "    .dataframe tbody tr th:only-of-type {\n",
       "        vertical-align: middle;\n",
       "    }\n",
       "\n",
       "    .dataframe tbody tr th {\n",
       "        vertical-align: top;\n",
       "    }\n",
       "\n",
       "    .dataframe thead th {\n",
       "        text-align: right;\n",
       "    }\n",
       "</style>\n",
       "<table border=\"1\" class=\"dataframe\">\n",
       "  <thead>\n",
       "    <tr style=\"text-align: right;\">\n",
       "      <th></th>\n",
       "      <th>Category</th>\n",
       "      <th>Message</th>\n",
       "    </tr>\n",
       "  </thead>\n",
       "  <tbody>\n",
       "    <tr>\n",
       "      <th>0</th>\n",
       "      <td>ham</td>\n",
       "      <td>Go until jurong point, crazy.. Available only ...</td>\n",
       "    </tr>\n",
       "    <tr>\n",
       "      <th>1</th>\n",
       "      <td>ham</td>\n",
       "      <td>Ok lar... Joking wif u oni...</td>\n",
       "    </tr>\n",
       "    <tr>\n",
       "      <th>2</th>\n",
       "      <td>spam</td>\n",
       "      <td>Free entry in 2 a wkly comp to win FA Cup fina...</td>\n",
       "    </tr>\n",
       "    <tr>\n",
       "      <th>3</th>\n",
       "      <td>ham</td>\n",
       "      <td>U dun say so early hor... U c already then say...</td>\n",
       "    </tr>\n",
       "    <tr>\n",
       "      <th>4</th>\n",
       "      <td>ham</td>\n",
       "      <td>Nah I don't think he goes to usf, he lives aro...</td>\n",
       "    </tr>\n",
       "    <tr>\n",
       "      <th>...</th>\n",
       "      <td>...</td>\n",
       "      <td>...</td>\n",
       "    </tr>\n",
       "    <tr>\n",
       "      <th>5567</th>\n",
       "      <td>spam</td>\n",
       "      <td>This is the 2nd time we have tried 2 contact u...</td>\n",
       "    </tr>\n",
       "    <tr>\n",
       "      <th>5568</th>\n",
       "      <td>ham</td>\n",
       "      <td>Will ü b going to esplanade fr home?</td>\n",
       "    </tr>\n",
       "    <tr>\n",
       "      <th>5569</th>\n",
       "      <td>ham</td>\n",
       "      <td>Pity, * was in mood for that. So...any other s...</td>\n",
       "    </tr>\n",
       "    <tr>\n",
       "      <th>5570</th>\n",
       "      <td>ham</td>\n",
       "      <td>The guy did some bitching but I acted like i'd...</td>\n",
       "    </tr>\n",
       "    <tr>\n",
       "      <th>5571</th>\n",
       "      <td>ham</td>\n",
       "      <td>Rofl. Its true to its name</td>\n",
       "    </tr>\n",
       "  </tbody>\n",
       "</table>\n",
       "<p>5572 rows × 2 columns</p>\n",
       "</div>"
      ],
      "text/plain": [
       "     Category                                            Message\n",
       "0         ham  Go until jurong point, crazy.. Available only ...\n",
       "1         ham                      Ok lar... Joking wif u oni...\n",
       "2        spam  Free entry in 2 a wkly comp to win FA Cup fina...\n",
       "3         ham  U dun say so early hor... U c already then say...\n",
       "4         ham  Nah I don't think he goes to usf, he lives aro...\n",
       "...       ...                                                ...\n",
       "5567     spam  This is the 2nd time we have tried 2 contact u...\n",
       "5568      ham               Will ü b going to esplanade fr home?\n",
       "5569      ham  Pity, * was in mood for that. So...any other s...\n",
       "5570      ham  The guy did some bitching but I acted like i'd...\n",
       "5571      ham                         Rofl. Its true to its name\n",
       "\n",
       "[5572 rows x 2 columns]"
      ]
     },
     "execution_count": 51,
     "metadata": {},
     "output_type": "execute_result"
    }
   ],
   "source": [
    "df_spam = pd.read_csv('spam.csv')\n",
    "df_spam"
   ]
  },
  {
   "cell_type": "markdown",
   "metadata": {},
   "source": [
    "Se codifica la variable objetido de modo que la clase que nos interesa (SPAM) se establezca con un 1 y HAM con un 0. "
   ]
  },
  {
   "cell_type": "code",
   "execution_count": 52,
   "metadata": {},
   "outputs": [],
   "source": [
    "## Creacion columna clase\n",
    "def category_to_numeric(category):\n",
    "    if category == 'ham':\n",
    "        return 0\n",
    "    elif category == 'spam':\n",
    "        return 1\n",
    "    else:\n",
    "        return None  # Puedes ajustar esto según tus necesidades\n",
    "\n",
    "# Crear la nueva columna 'Category_Numeric'\n",
    "df_spam['Class'] = df_spam['Category'].apply(category_to_numeric)\n"
   ]
  },
  {
   "cell_type": "code",
   "execution_count": 53,
   "metadata": {},
   "outputs": [
    {
     "data": {
      "text/html": [
       "<div>\n",
       "<style scoped>\n",
       "    .dataframe tbody tr th:only-of-type {\n",
       "        vertical-align: middle;\n",
       "    }\n",
       "\n",
       "    .dataframe tbody tr th {\n",
       "        vertical-align: top;\n",
       "    }\n",
       "\n",
       "    .dataframe thead th {\n",
       "        text-align: right;\n",
       "    }\n",
       "</style>\n",
       "<table border=\"1\" class=\"dataframe\">\n",
       "  <thead>\n",
       "    <tr style=\"text-align: right;\">\n",
       "      <th></th>\n",
       "      <th>Message</th>\n",
       "      <th>Class</th>\n",
       "    </tr>\n",
       "  </thead>\n",
       "  <tbody>\n",
       "    <tr>\n",
       "      <th>0</th>\n",
       "      <td>Go until jurong point, crazy.. Available only ...</td>\n",
       "      <td>0</td>\n",
       "    </tr>\n",
       "    <tr>\n",
       "      <th>1</th>\n",
       "      <td>Ok lar... Joking wif u oni...</td>\n",
       "      <td>0</td>\n",
       "    </tr>\n",
       "    <tr>\n",
       "      <th>2</th>\n",
       "      <td>Free entry in 2 a wkly comp to win FA Cup fina...</td>\n",
       "      <td>1</td>\n",
       "    </tr>\n",
       "    <tr>\n",
       "      <th>3</th>\n",
       "      <td>U dun say so early hor... U c already then say...</td>\n",
       "      <td>0</td>\n",
       "    </tr>\n",
       "    <tr>\n",
       "      <th>4</th>\n",
       "      <td>Nah I don't think he goes to usf, he lives aro...</td>\n",
       "      <td>0</td>\n",
       "    </tr>\n",
       "    <tr>\n",
       "      <th>...</th>\n",
       "      <td>...</td>\n",
       "      <td>...</td>\n",
       "    </tr>\n",
       "    <tr>\n",
       "      <th>5567</th>\n",
       "      <td>This is the 2nd time we have tried 2 contact u...</td>\n",
       "      <td>1</td>\n",
       "    </tr>\n",
       "    <tr>\n",
       "      <th>5568</th>\n",
       "      <td>Will ü b going to esplanade fr home?</td>\n",
       "      <td>0</td>\n",
       "    </tr>\n",
       "    <tr>\n",
       "      <th>5569</th>\n",
       "      <td>Pity, * was in mood for that. So...any other s...</td>\n",
       "      <td>0</td>\n",
       "    </tr>\n",
       "    <tr>\n",
       "      <th>5570</th>\n",
       "      <td>The guy did some bitching but I acted like i'd...</td>\n",
       "      <td>0</td>\n",
       "    </tr>\n",
       "    <tr>\n",
       "      <th>5571</th>\n",
       "      <td>Rofl. Its true to its name</td>\n",
       "      <td>0</td>\n",
       "    </tr>\n",
       "  </tbody>\n",
       "</table>\n",
       "<p>5572 rows × 2 columns</p>\n",
       "</div>"
      ],
      "text/plain": [
       "                                                Message  Class\n",
       "0     Go until jurong point, crazy.. Available only ...      0\n",
       "1                         Ok lar... Joking wif u oni...      0\n",
       "2     Free entry in 2 a wkly comp to win FA Cup fina...      1\n",
       "3     U dun say so early hor... U c already then say...      0\n",
       "4     Nah I don't think he goes to usf, he lives aro...      0\n",
       "...                                                 ...    ...\n",
       "5567  This is the 2nd time we have tried 2 contact u...      1\n",
       "5568               Will ü b going to esplanade fr home?      0\n",
       "5569  Pity, * was in mood for that. So...any other s...      0\n",
       "5570  The guy did some bitching but I acted like i'd...      0\n",
       "5571                         Rofl. Its true to its name      0\n",
       "\n",
       "[5572 rows x 2 columns]"
      ]
     },
     "execution_count": 53,
     "metadata": {},
     "output_type": "execute_result"
    }
   ],
   "source": [
    "df_spam = df_spam.drop(['Category'], axis =1)\n",
    "df_spam"
   ]
  },
  {
   "cell_type": "markdown",
   "metadata": {},
   "source": [
    "## 1. Preprocesamiento y normalizacion de los datos\n",
    "En este apartado, se preprocesa y normaliza el texto, de modo que podamos tenerlo lo más estandarizado posible.\n",
    "\n",
    "Primero se eliminan los signos de puntuación innecesarios, se convierten todas las palabras a minusculas, se eliminan enlaces, dobles espacios...\n",
    "\n",
    "Para llevar a cabo esta limpieza se crea la función *wordopt*, compuesta por distintas instrucciones en forma de expresiones regulares que permiten llevar a cabo la limpieza de una forma eficiente.\n",
    "\n",
    "La función *eliminar_arroba_hashtag* permite eliminar estructuras del tipo @usuario y #hashtag."
   ]
  },
  {
   "cell_type": "code",
   "execution_count": 54,
   "metadata": {},
   "outputs": [],
   "source": [
    "## crear un dataframe nuevo para modificarlos\n",
    "df_para_limpiar = df_spam.copy()"
   ]
  },
  {
   "cell_type": "code",
   "execution_count": 55,
   "metadata": {},
   "outputs": [],
   "source": [
    "def wordopt(text):\n",
    "    text = text.lower()  # Convierte el texto a minúsculas\n",
    "    text = re.sub('https?://\\S+|www\\.\\S+', '', text)  # Borra URLs\n",
    "    text = re.sub('\\n', ' ', text)  # Borra saltos de línea\n",
    "    text = re.sub(r'\\s+', ' ', text)  # Borra varios espacios en blanco y los sustituye por uno solo\n",
    "    text = re.sub('<.*?>', '', text)  # Borra tags HTML\n",
    "    text = re.sub('\\[.*?\\]', '', text)  # Borra corchetes y su contenido\n",
    "    text = re.sub(r'\\d+(\\.\\d+)?', '', text)  # Borra números, incluyendo decimales\n",
    "    text = re.sub(r'\\b\\d+\\w+\\b', '', text)  # Borra números seguidos de letras (como \"2nd\")\n",
    "    text = re.sub(r'[£$%&\\'()*+,-/:;<=>@[\\]^_`{|}~¿¡—“”‘’]', '', text)  # Borra signos de puntuación, exclamaciones, interrogaciones y otros símbolos\n",
    "    text = re.sub(r'\"', '', text)  # Borra comillas\n",
    "    text = re.sub(r'\\s+', ' ', text)  # Borra dobles espacios finales\n",
    "    return text\n",
    "\n",
    "\n",
    "def eliminar_arroba_hashtag(text):\n",
    "    text = re.sub(r'@\\w+', '', text)\n",
    "    text = re.sub(r'#\\w+', '', text)\n",
    "    \n",
    "    return text"
   ]
  },
  {
   "cell_type": "code",
   "execution_count": 56,
   "metadata": {},
   "outputs": [],
   "source": [
    "df_para_limpiar[\"Message\"] = df_para_limpiar[\"Message\"].apply(wordopt)\n",
    "df_para_limpiar[\"Message\"] = df_para_limpiar[\"Message\"].apply(eliminar_arroba_hashtag)\n"
   ]
  },
  {
   "cell_type": "markdown",
   "metadata": {},
   "source": [
    "A continuación se muestra una comparación de texto antes y después de aplicarle las funciones de preprocesamiento, para que pueda comprenderse mejor lo que se está realizando.\n"
   ]
  },
  {
   "cell_type": "code",
   "execution_count": 57,
   "metadata": {},
   "outputs": [
    {
     "name": "stdout",
     "output_type": "stream",
     "text": [
      "El texto sin preprocesar:\n",
      "\t There'll be a minor shindig at my place later tonight, you interested?\n",
      "\n",
      "\n",
      "El texto preprocesado:\n",
      "\t therell be a minor shindig at my place later tonight you interested?\n"
     ]
    }
   ],
   "source": [
    "import random\n",
    "\n",
    "m = random.randint(0,len(df_spam)-1)\n",
    "\n",
    "print('El texto sin preprocesar:')\n",
    "print('\\t',df_spam[\"Message\"][m])\n",
    "\n",
    "print('')\n",
    "print('')\n",
    "\n",
    "print('El texto preprocesado:')\n",
    "print('\\t',df_para_limpiar[\"Message\"][m])"
   ]
  },
  {
   "cell_type": "markdown",
   "metadata": {},
   "source": [
    "Creamos una copia del dataframe con el texto ya preprocesado para proceder con el análisis sin modificar el anterior por si se necesita acceder a él."
   ]
  },
  {
   "cell_type": "code",
   "execution_count": 58,
   "metadata": {},
   "outputs": [],
   "source": [
    "df_limpio = df_para_limpiar.copy()"
   ]
  },
  {
   "cell_type": "markdown",
   "metadata": {},
   "source": [
    "## 3. Lemmatización"
   ]
  },
  {
   "cell_type": "markdown",
   "metadata": {},
   "source": [
    "Como ya se vio en una de las clases anteriores, la lemmatización consite en obtener el lema de las palabras, de modo que se consiga reducir el ruido y la dimensionalidad del vocabulario para poder mejorar la eficiencia del modelo. Crearemos una función que se encarge de realizar este proceso. Se ha escogido la lematización en vez de la técnica stemming, debido a su eficiencia ante palabras similares con diferente raíz."
   ]
  },
  {
   "cell_type": "code",
   "execution_count": 59,
   "metadata": {},
   "outputs": [],
   "source": [
    "def lemmatize_text(text):\n",
    "    doc = nlp(text)\n",
    "    lemmatized_words = [token.lemma_ for token in doc]\n",
    "    lemmatized_text = ' '.join(lemmatized_words)\n",
    "    return lemmatized_text"
   ]
  },
  {
   "cell_type": "code",
   "execution_count": 60,
   "metadata": {},
   "outputs": [],
   "source": [
    "df_limpio['Message'] = df_limpio['Message'].apply(lemmatize_text)\n"
   ]
  },
  {
   "cell_type": "code",
   "execution_count": 61,
   "metadata": {},
   "outputs": [
    {
     "data": {
      "text/html": [
       "<div>\n",
       "<style scoped>\n",
       "    .dataframe tbody tr th:only-of-type {\n",
       "        vertical-align: middle;\n",
       "    }\n",
       "\n",
       "    .dataframe tbody tr th {\n",
       "        vertical-align: top;\n",
       "    }\n",
       "\n",
       "    .dataframe thead th {\n",
       "        text-align: right;\n",
       "    }\n",
       "</style>\n",
       "<table border=\"1\" class=\"dataframe\">\n",
       "  <thead>\n",
       "    <tr style=\"text-align: right;\">\n",
       "      <th></th>\n",
       "      <th>Message</th>\n",
       "      <th>Class</th>\n",
       "    </tr>\n",
       "  </thead>\n",
       "  <tbody>\n",
       "    <tr>\n",
       "      <th>0</th>\n",
       "      <td>go until jurong point crazy available only in ...</td>\n",
       "      <td>0</td>\n",
       "    </tr>\n",
       "    <tr>\n",
       "      <th>1</th>\n",
       "      <td>ok lar joke wif u oni</td>\n",
       "      <td>0</td>\n",
       "    </tr>\n",
       "    <tr>\n",
       "      <th>2</th>\n",
       "      <td>free entry in a wkly comp to win fa cup final ...</td>\n",
       "      <td>1</td>\n",
       "    </tr>\n",
       "    <tr>\n",
       "      <th>3</th>\n",
       "      <td>u dun say so early hor u c already then say</td>\n",
       "      <td>0</td>\n",
       "    </tr>\n",
       "    <tr>\n",
       "      <th>4</th>\n",
       "      <td>nah I do not think he go to usf he live around...</td>\n",
       "      <td>0</td>\n",
       "    </tr>\n",
       "    <tr>\n",
       "      <th>...</th>\n",
       "      <td>...</td>\n",
       "      <td>...</td>\n",
       "    </tr>\n",
       "    <tr>\n",
       "      <th>5567</th>\n",
       "      <td>this be the nd time we have try contact u u ha...</td>\n",
       "      <td>1</td>\n",
       "    </tr>\n",
       "    <tr>\n",
       "      <th>5568</th>\n",
       "      <td>will ü b go to esplanade fr home ?</td>\n",
       "      <td>0</td>\n",
       "    </tr>\n",
       "    <tr>\n",
       "      <th>5569</th>\n",
       "      <td>pity be in mood for that soany other suggestion ?</td>\n",
       "      <td>0</td>\n",
       "    </tr>\n",
       "    <tr>\n",
       "      <th>5570</th>\n",
       "      <td>the guy do some bitching but I act like i d be...</td>\n",
       "      <td>0</td>\n",
       "    </tr>\n",
       "    <tr>\n",
       "      <th>5571</th>\n",
       "      <td>rofl its true to its name</td>\n",
       "      <td>0</td>\n",
       "    </tr>\n",
       "  </tbody>\n",
       "</table>\n",
       "<p>5572 rows × 2 columns</p>\n",
       "</div>"
      ],
      "text/plain": [
       "                                                Message  Class\n",
       "0     go until jurong point crazy available only in ...      0\n",
       "1                                 ok lar joke wif u oni      0\n",
       "2     free entry in a wkly comp to win fa cup final ...      1\n",
       "3           u dun say so early hor u c already then say      0\n",
       "4     nah I do not think he go to usf he live around...      0\n",
       "...                                                 ...    ...\n",
       "5567  this be the nd time we have try contact u u ha...      1\n",
       "5568                 will ü b go to esplanade fr home ?      0\n",
       "5569  pity be in mood for that soany other suggestion ?      0\n",
       "5570  the guy do some bitching but I act like i d be...      0\n",
       "5571                          rofl its true to its name      0\n",
       "\n",
       "[5572 rows x 2 columns]"
      ]
     },
     "execution_count": 61,
     "metadata": {},
     "output_type": "execute_result"
    }
   ],
   "source": [
    "df_limpio"
   ]
  },
  {
   "cell_type": "markdown",
   "metadata": {},
   "source": [
    "Análogo a lo que se hizo anteriormente, en la siguiente celda puede observarse los cambios realizados."
   ]
  },
  {
   "cell_type": "code",
   "execution_count": 62,
   "metadata": {},
   "outputs": [
    {
     "name": "stdout",
     "output_type": "stream",
     "text": [
      "El texto previo a la lematización:\n",
      "\t haha that was the first person i was gonna ask\n",
      "\n",
      "\n",
      "El texto lematizado:\n",
      "\t haha that be the first person I be go to ask\n"
     ]
    }
   ],
   "source": [
    "m = random.randint(0,len(df_limpio)-1)\n",
    "\n",
    "print('El texto previo a la lematización:')\n",
    "print('\\t',df_para_limpiar[\"Message\"][m])\n",
    "\n",
    "print('')\n",
    "print('')\n",
    "\n",
    "print('El texto lematizado:')\n",
    "print('\\t',df_limpio[\"Message\"][m])"
   ]
  },
  {
   "cell_type": "markdown",
   "metadata": {},
   "source": [
    "### Stopwords\n",
    "\n",
    "Las stopwords son palabras comunes que suelen eliminarse durante el preprocesamiento del texto, ya que aportan poco significado a un texto y no suelen ser relevantes para el análisis. En el presente estudio, se ha decidido eliminarlas, y para ello, se hará uso de la biblioteca NLTK y su diccionario de stopword en ingles.\n"
   ]
  },
  {
   "cell_type": "code",
   "execution_count": 63,
   "metadata": {},
   "outputs": [],
   "source": [
    "def tokenization_stopwords (tokens_spell_checked):\n",
    "    text = word_tokenize(tokens_spell_checked)\n",
    "    text = [word for word in text if not word in stopwords.words('english')]\n",
    "    text = ' '.join(text)\n",
    "    return text\n",
    "\n",
    "df_limpio['Message'] = df_limpio['Message'].apply(tokenization_stopwords)\n"
   ]
  },
  {
   "cell_type": "markdown",
   "metadata": {},
   "source": [
    "Ahora podemos ver como quedarían nuestros emails tras la eliminación de las *Stopwords*"
   ]
  },
  {
   "cell_type": "code",
   "execution_count": 64,
   "metadata": {},
   "outputs": [
    {
     "name": "stdout",
     "output_type": "stream",
     "text": [
      "El texto sin el eliminado de stopwords:\n",
      "\t after my work ah den plus lor u workin oso rite den go orchard lor no other place to go liao\n",
      "\n",
      "\n",
      "El texto tras el eliminado de stopwprds:\n",
      "\t work ah den plus lor u workin oso rite den go orchard lor place go liao\n"
     ]
    }
   ],
   "source": [
    "m = random.randint(0,len(df_limpio)-1)\n",
    "\n",
    "print('El texto sin el eliminado de stopwords:')\n",
    "print('\\t',df_para_limpiar[\"Message\"][m])\n",
    "\n",
    "print('')\n",
    "print('')\n",
    "\n",
    "print('El texto tras el eliminado de stopwprds:')\n",
    "print('\\t',df_limpio[\"Message\"][m])"
   ]
  },
  {
   "cell_type": "markdown",
   "metadata": {},
   "source": [
    "## 4. Vectorización"
   ]
  },
  {
   "cell_type": "markdown",
   "metadata": {},
   "source": [
    "### Word Embeding\n",
    "\n",
    "Para poder aplicar los distintos algoritmos de clasificación, debemos vectorizar el texto, de modo que la entrada al algoritmo sea una variable numérica. En este caso, estaremos utilizando TfidfVectorizer, una técnica que crea vectores de características ponderadas utilizando TF-IDF (Term Frequency-Inverse Document Frequency). A diferencia de los word embeddings, que representan palabras en un espacio semántico continuo, el enfoque de TF-IDF se centra en la importancia relativa de una palabra en un documento dentro de un conjunto más amplio de documentos. Esta técnica pondera las palabras según su frecuencia en un documento específico y su rareza en todo el corpus, lo que permite capturar la relevancia de cada palabra en la representación vectorial resultante. Aunque es diferente de los word embeddings, TfidfVectorizer es útil para capturar la relevancia contextual y la importancia de las palabras en el análisis de texto."
   ]
  },
  {
   "cell_type": "code",
   "execution_count": 65,
   "metadata": {},
   "outputs": [],
   "source": [
    "vectorizer = TfidfVectorizer()\n",
    "y = df_limpio['Class']\n",
    "X = df_limpio['Message']\n",
    "\n",
    "X_vect = vectorizer.fit_transform(X)\n"
   ]
  },
  {
   "cell_type": "markdown",
   "metadata": {},
   "source": [
    "La vectorización realizada por TfidfVectorizer genera características ponderadas basadas en la frecuencia de los términos y la inversa de la frecuencia del documento (TF-IDF). Estas características ya tienen un significado relativo y están normalizadas en cierto grado por la forma en que se calculan, por lo que no es necesario aplicar un escalado adicional antes de usarlas como entrada para un modelo de regresión logística."
   ]
  },
  {
   "cell_type": "markdown",
   "metadata": {},
   "source": [
    "## División del dataset"
   ]
  },
  {
   "cell_type": "markdown",
   "metadata": {},
   "source": [
    "A continuación se dividen los datos en *train* y *test*. Primero, el modelo se ajusta a estos datos, lo que significa que se adapta a los patrones y relaciones en el conjunto de entrenamiento. En el dataset de *test* se evalua el rendimiento del modelo con unos datos nuevos."
   ]
  },
  {
   "cell_type": "code",
   "execution_count": 66,
   "metadata": {},
   "outputs": [],
   "source": [
    "X_train, X_test, y_train, y_test = train_test_split(X_vect, y, test_size=0.20, random_state=18)"
   ]
  },
  {
   "cell_type": "markdown",
   "metadata": {},
   "source": [
    "## 5. Modelos de predicción:\n",
    "\n",
    "A continuación se van a aplicar los siguientes algoritmos supervisados para la predicción de mensajes SPAM / NO SPAM (HAM). Después se comparan los resultados y se explicará cuál es el más adecuado:\n",
    "\n",
    "- 5.1 Regresión Logística\n",
    "- 5.2 Naive Bayes\n",
    "- 5.3 K - Nearest Neighbors (KNN)\n",
    "- 5.4 Árbol de decisión\n"
   ]
  },
  {
   "cell_type": "markdown",
   "metadata": {},
   "source": [
    "### 5.1 Regresión logística"
   ]
  },
  {
   "cell_type": "code",
   "execution_count": 67,
   "metadata": {},
   "outputs": [],
   "source": [
    "###### Se declara el modelo\n",
    "LR = LogisticRegression()\n",
    "\n",
    "##### Se entrena el modelo\n",
    "LR.fit(X_train,y_train)\n",
    "\n",
    "#### Una vez entrenado, se realiza la predicción\n",
    "y_rl_pred = LR.predict(X_test)"
   ]
  },
  {
   "cell_type": "code",
   "execution_count": 68,
   "metadata": {},
   "outputs": [
    {
     "name": "stdout",
     "output_type": "stream",
     "text": [
      "Resumen de las distintas métricas:\n",
      "\n",
      "               precision    recall  f1-score   support\n",
      "\n",
      "           0       0.96      1.00      0.98       977\n",
      "           1       0.97      0.72      0.82       138\n",
      "\n",
      "    accuracy                           0.96      1115\n",
      "   macro avg       0.97      0.86      0.90      1115\n",
      "weighted avg       0.96      0.96      0.96      1115\n",
      "\n"
     ]
    }
   ],
   "source": [
    "print(\"Resumen de las distintas métricas:\\n\\n\", classification_report(y_test, y_rl_pred))"
   ]
  },
  {
   "cell_type": "code",
   "execution_count": 69,
   "metadata": {},
   "outputs": [
    {
     "name": "stdout",
     "output_type": "stream",
     "text": [
      "Precisión: 0.9623318385650225\n",
      "\n",
      "Valores de la matriz de consusión: \n",
      " [[974   3]\n",
      " [ 39  99]]\n"
     ]
    },
    {
     "data": {
      "image/png": "[encoded data removed]",
      "text/plain": [
       "<Figure size 640x480 with 1 Axes>"
      ]
     },
     "metadata": {},
     "output_type": "display_data"
    }
   ],
   "source": [
    "print(\"Precisión:\", accuracy_score(y_test, y_rl_pred))\n",
    "print('')\n",
    "\n",
    "#### Se visualiza su matriz de conclusión.\n",
    "matrix = confusion_matrix(y_test, y_rl_pred)\n",
    "print('Valores de la matriz de consusión: \\n', matrix)\n",
    "\n",
    "sns.heatmap(matrix, annot=True, cbar=None, cmap=\"Greens\")\n",
    "\n",
    "plt.title(\"Confusion Matrix\"), \n",
    "plt.tight_layout()\n",
    "plt.ylabel(\"True Class\")\n",
    "plt.xlabel(\"Predicted Class\")\n",
    "plt.show()"
   ]
  },
  {
   "cell_type": "markdown",
   "metadata": {},
   "source": [
    "### 5.2 Naive Bayes"
   ]
  },
  {
   "cell_type": "code",
   "execution_count": 70,
   "metadata": {},
   "outputs": [],
   "source": [
    "###### Se declara el modelo\n",
    "nb = GaussianNB()\n",
    "\n",
    "X_train_array = X_train.toarray()\n",
    "X_test_array = X_test.toarray()\n",
    "\n",
    "\n",
    "##### Se entrena\n",
    "nb.fit(X_train_array, y_train)\n",
    "\n",
    "\n",
    "##### Una vez entrenado, se realiza la predicción\n",
    "y_nb_pred = nb.predict(X_test_array)"
   ]
  },
  {
   "cell_type": "code",
   "execution_count": 71,
   "metadata": {},
   "outputs": [
    {
     "name": "stdout",
     "output_type": "stream",
     "text": [
      "Resumen de las distintas métricas: \n",
      "               precision    recall  f1-score   support\n",
      "\n",
      "           0       0.98      0.86      0.92       977\n",
      "           1       0.47      0.88      0.61       138\n",
      "\n",
      "    accuracy                           0.86      1115\n",
      "   macro avg       0.73      0.87      0.77      1115\n",
      "weighted avg       0.92      0.86      0.88      1115\n",
      "\n"
     ]
    }
   ],
   "source": [
    "print(\"Resumen de las distintas métricas: \\n\", classification_report(y_test, y_nb_pred))"
   ]
  },
  {
   "cell_type": "code",
   "execution_count": 72,
   "metadata": {},
   "outputs": [
    {
     "name": "stdout",
     "output_type": "stream",
     "text": [
      "Precisión: 0.863677130044843\n",
      "\n",
      "Valores de la matriz de consusión: \n",
      " [[842 135]\n",
      " [ 17 121]]\n"
     ]
    },
    {
     "data": {
      "image/png": "[encoded data removed]",
      "text/plain": [
       "<Figure size 640x480 with 1 Axes>"
      ]
     },
     "metadata": {},
     "output_type": "display_data"
    }
   ],
   "source": [
    "print(\"Precisión:\", accuracy_score(y_test, y_nb_pred))\n",
    "print('')\n",
    "\n",
    "#### Se visualiza su matriz de confusión.\n",
    "matrix =confusion_matrix(y_test, y_nb_pred)\n",
    "print('Valores de la matriz de consusión: \\n', matrix)\n",
    "\n",
    "sns.heatmap(matrix, annot=True, cbar=None, cmap=\"Greens\")\n",
    "\n",
    "plt.title(\"Confusion Matrix\"), \n",
    "plt.tight_layout()\n",
    "plt.ylabel(\"True Class\")\n",
    "plt.xlabel(\"Predicted Class\")\n",
    "plt.show()"
   ]
  },
  {
   "cell_type": "markdown",
   "metadata": {},
   "source": [
    "### 5.3 K-Nearest Neigbors"
   ]
  },
  {
   "cell_type": "code",
   "execution_count": 73,
   "metadata": {},
   "outputs": [],
   "source": [
    "def plot_complexity_curve(k_list, knn_model, X_knn_train_esc, X_knn_test_esc, y_knn_train, y_knn_test):\n",
    "    \"'Función para escoger el mejor valor de k'\"\n",
    "    train_scores = []\n",
    "    test_scores = []\n",
    "    \n",
    "    # For each k\n",
    "    for k in k_list:\n",
    "        \n",
    "        # Initialize\n",
    "        knn = knn_model(k)\n",
    "        \n",
    "        # fit\n",
    "        knn.fit(X_knn_train_esc, y_knn_train)\n",
    "        \n",
    "        # predict\n",
    "        train_scores.append(knn.score(X_knn_train_esc, y_knn_train))\n",
    "        test_scores.append(knn.score(X_knn_test_esc, y_knn_test))\n",
    "    \n",
    "    # Plot\n",
    "    fig, ax = plt.subplots()\n",
    "    \n",
    "    ax.plot(k_list, train_scores, label='Training Accuracy', color='red')\n",
    "    ax.plot(k_list, test_scores, label='Testing Accuracy', color='black')\n",
    "\n",
    "    ax.set(title='k-NN with Different Values for $k$',\n",
    "           xlabel='Number of Neighbors',\n",
    "           ylabel='Accuracy')\n",
    "    \n",
    "    ax.legend()"
   ]
  },
  {
   "cell_type": "code",
   "execution_count": 74,
   "metadata": {},
   "outputs": [
    {
     "data": {
      "image/png": "[encoded data removed]",
      "text/plain": [
       "<Figure size 640x480 with 1 Axes>"
      ]
     },
     "metadata": {},
     "output_type": "display_data"
    }
   ],
   "source": [
    "##### Visualizamos la respuesta para k entre 1-15\n",
    "neighbors = np.arange(1, 15)\n",
    "plot_complexity_curve(neighbors, KNeighborsClassifier, X_train, \n",
    "                      X_test, y_train, y_test)"
   ]
  },
  {
   "cell_type": "code",
   "execution_count": 75,
   "metadata": {},
   "outputs": [],
   "source": [
    "# Crear un clasificador K-NN con un valor de K = 3\n",
    "k = 3\n",
    "knn_classifier = KNeighborsClassifier(n_neighbors=k)"
   ]
  },
  {
   "cell_type": "code",
   "execution_count": 76,
   "metadata": {},
   "outputs": [
    {
     "name": "stdout",
     "output_type": "stream",
     "text": [
      "Precisión del modelo K-NN con K = 3: 95.16%\n"
     ]
    }
   ],
   "source": [
    "# Ajustar el modelo a los datos de entrenamiento\n",
    "knn_classifier.fit(X_train, y_train)\n",
    "\n",
    "# Realizar predicciones en el conjunto de prueba\n",
    "y_pred = knn_classifier.predict(X_test)\n",
    "\n",
    "# Calcular la precisión del modelo\n",
    "accuracy = accuracy_score(y_test, y_pred)\n",
    "print(f\"Precisión del modelo K-NN con K = {k}: {accuracy * 100:.2f}%\")"
   ]
  },
  {
   "cell_type": "code",
   "execution_count": 77,
   "metadata": {},
   "outputs": [],
   "source": [
    "#### Se declara el modelo a utilizar\n",
    "knn = KNeighborsClassifier(n_neighbors = 8)\n",
    "\n",
    "##### Se entrena\n",
    "knn.fit(X_train, y_train)\n",
    "\n",
    "##### Una vez entrenado, se realiza la predicción\n",
    "y_knn_pred = knn.predict(X_test)"
   ]
  },
  {
   "cell_type": "code",
   "execution_count": 78,
   "metadata": {},
   "outputs": [
    {
     "name": "stdout",
     "output_type": "stream",
     "text": [
      "Precisión con KNN (K=8) : 0.9139013452914798\n",
      "\n",
      "Valores de la matriz de consusión: \n",
      " [[977   0]\n",
      " [ 96  42]]\n"
     ]
    },
    {
     "data": {
      "image/png": "[encoded data removed]",
      "text/plain": [
       "<Figure size 640x480 with 1 Axes>"
      ]
     },
     "metadata": {},
     "output_type": "display_data"
    }
   ],
   "source": [
    "print(\"Precisión con KNN (K=8) :\", accuracy_score(y_test,y_knn_pred))\n",
    "print('')\n",
    "\n",
    "#### Se visualiza su matriz de conclusión\n",
    "matrix = confusion_matrix(y_test, y_knn_pred)\n",
    "print('Valores de la matriz de consusión: \\n', matrix)\n",
    "\n",
    "sns.heatmap(matrix, annot=True, cbar=None, cmap=\"Greens\")\n",
    "\n",
    "plt.title(\"Confusion Matrix\"), \n",
    "plt.tight_layout()\n",
    "plt.ylabel(\"True Class\")\n",
    "plt.xlabel(\"Predicted Class\")\n",
    "plt.show()"
   ]
  },
  {
   "cell_type": "markdown",
   "metadata": {},
   "source": [
    "### 5.4 Árbol de decisión"
   ]
  },
  {
   "cell_type": "code",
   "execution_count": 79,
   "metadata": {},
   "outputs": [],
   "source": [
    "#### Se declara el modelo a utilizar\n",
    "decision_tree = tree.DecisionTreeClassifier(criterion='gini')\n",
    "\n",
    "##### Se entrena\n",
    "decision_tree.fit(X_train, y_train)\n",
    "\n",
    "##### Una vez entrenado, se realiza la predicción\n",
    "y_add_pred = decision_tree.predict(X_test)"
   ]
  },
  {
   "cell_type": "code",
   "execution_count": 80,
   "metadata": {},
   "outputs": [
    {
     "name": "stdout",
     "output_type": "stream",
     "text": [
      "Resumen de las distintas métricas: \n",
      "               precision    recall  f1-score   support\n",
      "\n",
      "           0       0.98      0.98      0.98       977\n",
      "           1       0.83      0.83      0.83       138\n",
      "\n",
      "    accuracy                           0.96      1115\n",
      "   macro avg       0.90      0.90      0.90      1115\n",
      "weighted avg       0.96      0.96      0.96      1115\n",
      "\n"
     ]
    }
   ],
   "source": [
    "print(\"Resumen de las distintas métricas: \\n\", classification_report(y_test, y_add_pred))"
   ]
  },
  {
   "cell_type": "code",
   "execution_count": 81,
   "metadata": {},
   "outputs": [
    {
     "name": "stdout",
     "output_type": "stream",
     "text": [
      "Precisión: 0.957847533632287\n",
      "\n",
      "Valores de la matriz de consusión: \n",
      " [[953  24]\n",
      " [ 23 115]]\n"
     ]
    },
    {
     "data": {
      "image/png": "[encoded data removed]",
      "text/plain": [
       "<Figure size 640x480 with 1 Axes>"
      ]
     },
     "metadata": {},
     "output_type": "display_data"
    }
   ],
   "source": [
    "print(\"Precisión:\", accuracy_score(y_test,y_add_pred))\n",
    "print('')\n",
    "\n",
    "#### Se visualiza su matriz de confusión\n",
    "matrix = confusion_matrix(y_test, y_add_pred)\n",
    "print('Valores de la matriz de consusión: \\n', matrix)\n",
    "\n",
    "sns.heatmap(matrix, annot=True, cbar=None, cmap=\"Greens\")\n",
    "\n",
    "plt.title(\"Confusion Matrix\"), \n",
    "plt.tight_layout()\n",
    "plt.ylabel(\"True Class\")\n",
    "plt.xlabel(\"Predicted Class\")\n",
    "plt.show()"
   ]
  },
  {
   "cell_type": "markdown",
   "metadata": {},
   "source": [
    "## 6. Comparación de los resultados obtenidos:"
   ]
  },
  {
   "cell_type": "code",
   "execution_count": 82,
   "metadata": {},
   "outputs": [],
   "source": [
    "df_resumen_resultados = pd.DataFrame()\n",
    "accuracy_ = []\n",
    "f1_ = []\n",
    "lista_pred = [y_rl_pred, y_nb_pred, y_knn_pred, y_add_pred]\n",
    "\n",
    "for i in range(0, len(lista_pred)):\n",
    "    accuracy_.append(accuracy_score(y_test, lista_pred[i]))\n",
    "    f1_.append(f1_score(y_test, lista_pred[i], average = 'weighted'))\n"
   ]
  },
  {
   "cell_type": "code",
   "execution_count": 83,
   "metadata": {},
   "outputs": [
    {
     "data": {
      "text/html": [
       "<div>\n",
       "<style scoped>\n",
       "    .dataframe tbody tr th:only-of-type {\n",
       "        vertical-align: middle;\n",
       "    }\n",
       "\n",
       "    .dataframe tbody tr th {\n",
       "        vertical-align: top;\n",
       "    }\n",
       "\n",
       "    .dataframe thead th {\n",
       "        text-align: right;\n",
       "    }\n",
       "</style>\n",
       "<table border=\"1\" class=\"dataframe\">\n",
       "  <thead>\n",
       "    <tr style=\"text-align: right;\">\n",
       "      <th></th>\n",
       "      <th>Algoritmo</th>\n",
       "      <th>Accuracy</th>\n",
       "      <th>F1_score</th>\n",
       "    </tr>\n",
       "  </thead>\n",
       "  <tbody>\n",
       "    <tr>\n",
       "      <th>0</th>\n",
       "      <td>Logistic Regression</td>\n",
       "      <td>0.962332</td>\n",
       "      <td>0.959847</td>\n",
       "    </tr>\n",
       "    <tr>\n",
       "      <th>1</th>\n",
       "      <td>Naive Bayes</td>\n",
       "      <td>0.863677</td>\n",
       "      <td>0.879710</td>\n",
       "    </tr>\n",
       "    <tr>\n",
       "      <th>2</th>\n",
       "      <td>K-NN</td>\n",
       "      <td>0.913901</td>\n",
       "      <td>0.892958</td>\n",
       "    </tr>\n",
       "    <tr>\n",
       "      <th>3</th>\n",
       "      <td>Decision Tree</td>\n",
       "      <td>0.957848</td>\n",
       "      <td>0.957913</td>\n",
       "    </tr>\n",
       "  </tbody>\n",
       "</table>\n",
       "</div>"
      ],
      "text/plain": [
       "             Algoritmo  Accuracy  F1_score\n",
       "0  Logistic Regression  0.962332  0.959847\n",
       "1          Naive Bayes  0.863677  0.879710\n",
       "2                 K-NN  0.913901  0.892958\n",
       "3        Decision Tree  0.957848  0.957913"
      ]
     },
     "execution_count": 83,
     "metadata": {},
     "output_type": "execute_result"
    }
   ],
   "source": [
    "df_resumen_resultados['Algoritmo'] = ['Logistic Regression','Naive Bayes','K-NN','Decision Tree']\n",
    "df_resumen_resultados['Accuracy'] = accuracy_\n",
    "df_resumen_resultados['F1_score'] = f1_\n",
    "\n",
    "df_resumen_resultados"
   ]
  },
  {
   "cell_type": "markdown",
   "metadata": {},
   "source": [
    "### Conclusiones: "
   ]
  },
  {
   "cell_type": "markdown",
   "metadata": {},
   "source": [
    "Viendo los anteriores resultados podemos decir que los mejores métodos predictivos son: **Árbol de decisión** y **la regresion logística**.\n",
    "Es recomendable de hecho prestar más atención a la metrica f1_score, ya que el problema de filtrado de spams, suele tender a presentar clases desbalanceadas. No obstante, en cada **classification_report** pueden observarse todas las métricas explicadas en teoria."
   ]
  }
 ],
 "metadata": {
  "kernelspec": {
   "display_name": "Python 3 (ipykernel)",
   "language": "python",
   "name": "python3"
  },
  "language_info": {
   "codemirror_mode": {
    "name": "ipython",
    "version": 3
   },
   "file_extension": ".py",
   "mimetype": "text/x-python",
   "name": "python",
   "nbconvert_exporter": "python",
   "pygments_lexer": "ipython3",
   "version": "3.10.5"
  }
 },
 "nbformat": 4,
 "nbformat_minor": 4
}
