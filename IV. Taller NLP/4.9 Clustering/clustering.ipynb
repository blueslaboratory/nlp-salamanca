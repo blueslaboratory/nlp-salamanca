{
 "cells": [
  {
   "cell_type": "code",
   "execution_count": 1,
   "metadata": {},
   "outputs": [],
   "source": [
    "# 26/01/2024\n",
    "\n",
    "# TF-IDF\n",
    "# TF: Time Frequency\n",
    "# IDF: Inverse Document Frequency"
   ]
  },
  {
   "cell_type": "markdown",
   "metadata": {},
   "source": [
    "# Ejemplo de uso de TF-IDF"
   ]
  },
  {
   "cell_type": "markdown",
   "metadata": {},
   "source": [
    "Aprenderemos cómo calcular la representación TF-IDF de documents utilizando bibliotecas de Python como Scikit-learn. A continuación, se muestra un ejemplo de cómo se podría hacer esto:"
   ]
  },
  {
   "cell_type": "code",
   "execution_count": 2,
   "metadata": {},
   "outputs": [],
   "source": [
    "from sklearn.feature_extraction.text import TfidfVectorizer\n",
    "\n",
    "# Ejemplo de documentos de texto\n",
    "documents = [\n",
    "    \"Este es un documento de ejemplo.\",\n",
    "    \"TF-IDF es una técnica importante en PLN.\",\n",
    "    \"El procesamiento del lenguaje natural es fascinante.\",\n",
    "    \"La representación vectorial de documents es fundamental.\"\n",
    "]\n",
    "\n",
    "# Crear un vectorizer TF-IDF\n",
    "vectorizer = TfidfVectorizer()\n",
    "\n",
    "# Calcular la representación TF-IDF de los documents\n",
    "tf_idf_matrix = vectorizer.fit_transform(documents)"
   ]
  },
  {
   "cell_type": "code",
   "execution_count": 3,
   "metadata": {},
   "outputs": [
    {
     "data": {
      "text/plain": [
       "<4x24 sparse matrix of type '<class 'numpy.float64'>'\n",
       "\twith 28 stored elements in Compressed Sparse Row format>"
      ]
     },
     "execution_count": 3,
     "metadata": {},
     "output_type": "execute_result"
    }
   ],
   "source": [
    "# La matriz de TF-IDF contiene la representación vectorial de los documentos\n",
    "\n",
    "# tf_idf_matrix dimension: (4, 24)\n",
    "# 4: nº de documentos\n",
    "# 24 nº: 6/documento\n",
    "\n",
    "tf_idf_matrix"
   ]
  },
  {
   "cell_type": "code",
   "execution_count": 6,
   "metadata": {},
   "outputs": [
    {
     "name": "stdout",
     "output_type": "stream",
     "text": [
      "  (0, 4)\t0.45203489051046103\n",
      "  (0, 0)\t0.3563894998080638\n",
      "  (0, 2)\t0.45203489051046103\n",
      "  (0, 21)\t0.45203489051046103\n",
      "  (0, 7)\t0.2358905582496689\n",
      "  (0, 8)\t0.45203489051046103\n",
      "  (1, 16)\t0.3708203448243492\n",
      "  (1, 6)\t0.3708203448243492\n",
      "  (1, 12)\t0.3708203448243492\n",
      "  (1, 20)\t0.3708203448243492\n",
      "  (1, 22)\t0.3708203448243492\n",
      "  (1, 11)\t0.3708203448243492\n",
      "  (1, 19)\t0.3708203448243492\n",
      "  (1, 7)\t0.19350943917663396\n",
      "  (2, 9)\t0.3992877139811605\n",
      "  (2, 15)\t0.3992877139811605\n",
      "  (2, 14)\t0.3992877139811605\n",
      "  (2, 1)\t0.3992877139811605\n",
      "  (2, 17)\t0.3992877139811605\n",
      "  (2, 5)\t0.3992877139811605\n",
      "  (2, 7)\t0.20836489335344868\n",
      "  (3, 10)\t0.41190608298099013\n",
      "  (3, 3)\t0.41190608298099013\n",
      "  (3, 23)\t0.41190608298099013\n",
      "  (3, 18)\t0.41190608298099013\n",
      "  (3, 13)\t0.41190608298099013\n",
      "  (3, 0)\t0.3247514870272976\n",
      "  (3, 7)\t0.21494968176261076\n"
     ]
    }
   ],
   "source": [
    "print(tf_idf_matrix)"
   ]
  },
  {
   "cell_type": "markdown",
   "metadata": {},
   "source": [
    "# Ejemplo de uso de K-means"
   ]
  },
  {
   "cell_type": "markdown",
   "metadata": {},
   "source": [
    "En esta sección, aplicaremos el algoritmo K-means para agrupar documents en Python utilizando la representación TF-IDF que aprendimos en la sección anterior. A continuación, se muestra un ejemplo práctico:"
   ]
  },
  {
   "cell_type": "code",
   "execution_count": 4,
   "metadata": {},
   "outputs": [
    {
     "name": "stdout",
     "output_type": "stream",
     "text": [
      "Documento: Este es un documento de ejemplo. - Cluster: 1\n",
      "Documento: TF-IDF es una técnica importante en PLN. - Cluster: 0\n",
      "Documento: El procesamiento del lenguaje natural es fascinante. - Cluster: 1\n",
      "Documento: La representación vectorial de documents es fundamental. - Cluster: 1\n"
     ]
    },
    {
     "name": "stderr",
     "output_type": "stream",
     "text": [
      "c:\\Python310\\lib\\site-packages\\sklearn\\cluster\\_kmeans.py:1416: FutureWarning: The default value of `n_init` will change from 10 to 'auto' in 1.4. Set the value of `n_init` explicitly to suppress the warning\n",
      "  super()._check_params_vs_input(X, default_n_init=10)\n"
     ]
    }
   ],
   "source": [
    "from sklearn.feature_extraction.text import TfidfVectorizer\n",
    "from sklearn.cluster import KMeans\n",
    "\n",
    "# Ejemplo de documentos de texto\n",
    "documents = [\n",
    "    \"Este es un documento de ejemplo.\",\n",
    "    \"TF-IDF es una técnica importante en PLN.\",\n",
    "    \"El procesamiento del lenguaje natural es fascinante.\",\n",
    "    \"La representación vectorial de documents es fundamental.\"\n",
    "]\n",
    "\n",
    "# Crear un vectorizador TF-IDF\n",
    "vectorizer = TfidfVectorizer()\n",
    "\n",
    "# Calcular la representación TF-IDF de los documents\n",
    "tf_idf_matrix = vectorizer.fit_transform(documents)\n",
    "\n",
    "# Aplicar el algoritmo K-means con K=2\n",
    "kmeans = KMeans(n_clusters=2)\n",
    "kmeans.fit(tf_idf_matrix)\n",
    "\n",
    "# Obtener las etiquetas de cluster para cada documento\n",
    "labels = kmeans.labels_\n",
    "\n",
    "# Mostrar los resultados del clustering\n",
    "for i, documento in enumerate(documents):\n",
    "    print(f\"Documento: {documento} - Cluster: {labels[i]}\")"
   ]
  },
  {
   "cell_type": "markdown",
   "metadata": {},
   "source": [
    "En este ejemplo, hemos aplicado K-means para agrupar los documents en dos clusters. Cada documento se asigna a un cluster según su similitud con los centroides calculados por el algoritmo."
   ]
  },
  {
   "cell_type": "markdown",
   "metadata": {},
   "source": [
    "# Ejemplo de visualización de agrupación de documentos"
   ]
  },
  {
   "cell_type": "markdown",
   "metadata": {},
   "source": [
    "Supongamos que hemos aplicado K-means a nuestros documentos en español y hemos obtenido los clusters. A continuación, mostraremos cómo visualizar los resultados utilizando PCA en Python:"
   ]
  },
  {
   "cell_type": "code",
   "execution_count": 7,
   "metadata": {},
   "outputs": [
    {
     "data": {
      "image/png": "[encoded data removed]",
      "text/plain": [
       "<Figure size 800x600 with 1 Axes>"
      ]
     },
     "metadata": {},
     "output_type": "display_data"
    }
   ],
   "source": [
    "from sklearn.decomposition import PCA\n",
    "import matplotlib.pyplot as plt\n",
    "\n",
    "# Aplicar PCA para reducir la dimensionalidad\n",
    "pca = PCA(n_components=2)\n",
    "resultados_pca = pca.fit_transform(tf_idf_matrix.toarray())\n",
    "\n",
    "# Graficar los documentos en un plano bidimensional\n",
    "plt.figure(figsize=(8, 6))\n",
    "plt.scatter(resultados_pca[:, 0], resultados_pca[:, 1], c=labels, cmap='viridis')\n",
    "plt.title(\"Visualización de Resultados de Clustering\")\n",
    "plt.xlabel(\"Componente Principal 1\")\n",
    "plt.ylabel(\"Componente Principal 2\")\n",
    "plt.show()"
   ]
  },
  {
   "cell_type": "markdown",
   "metadata": {},
   "source": [
    "En este ejemplo, hemos aplicado PCA para reducir la dimensionalidad de nuestros datos TF-IDF y los hemos visualizado en un plano bidimensional. Los colores representan los clusters a los que pertenecen los documentos. Esta visualización nos ayuda a identificar patrones y relaciones entre los documentos."
   ]
  },
  {
   "cell_type": "markdown",
   "metadata": {},
   "source": [
    "# Ejemplo de uso de TF-IDF con K-means para ocho documentos"
   ]
  },
  {
   "cell_type": "markdown",
   "metadata": {},
   "source": [
    "En este código, tenemos un ejemplo más extenso con ocho documentos relacionados con el deporte y la tecnología. Utilizamos TF-IDF para representar los documentos como vectores numéricos. A continuación, aplicamos el algoritmo K-means con K=3 para agrupar los documentos en tres clusters. Por último, imprimimos las asignaciones de clusters para cada documento y mostramos los centroides de los clusters."
   ]
  },
  {
   "cell_type": "code",
   "execution_count": 16,
   "metadata": {},
   "outputs": [
    {
     "name": "stdout",
     "output_type": "stream",
     "text": [
      "Document: El equipo de fútbol ganó el partido en tiempo extra. - Cluster: 0\n",
      "Document: Los avances en tecnología móvil continúan sorprendiendo. - Cluster: 1\n",
      "Document: El entrenador del equipo de baloncesto anunció cambios en la estrategia. - Cluster: 0\n",
      "Document: Nuevas aplicaciones móviles revolucionan la industria tecnológica. - Cluster: 2\n",
      "Document: Atletas de todo el mundo compiten en los Juegos Olímpicos. - Cluster: 0\n",
      "Document: La inteligencia artificial está remodelando el futuro de la tecnología. - Cluster: 2\n",
      "Document: Se está construyendo un nuevo estadio deportivo en la ciudad. - Cluster: 2\n",
      "Document: Los científicos están logrando avances en la computación cuántica. - Cluster: 1\n",
      "\n",
      "Cluster Centroids:\n",
      "[[0.11732997 0.         0.         0.12109741 0.         0.11732997\n",
      "  0.11732997 0.         0.         0.12109741 0.         0.\n",
      "  0.         0.         0.2260856  0.11732997 0.         0.30098905\n",
      "  0.17817518 0.11732997 0.1973332  0.         0.11732997 0.\n",
      "  0.         0.11812924 0.         0.11812924 0.11812924 0.\n",
      "  0.         0.12109741 0.06585387 0.         0.08757675 0.12109741\n",
      "  0.         0.         0.         0.         0.12109741 0.11812924\n",
      "  0.         0.         0.         0.         0.         0.\n",
      "  0.11812924 0.12109741 0.        ]\n",
      " [0.         0.         0.         0.         0.34497121 0.\n",
      "  0.         0.19188072 0.         0.         0.19188072 0.\n",
      "  0.2197411  0.19188072 0.         0.         0.         0.\n",
      "  0.20569186 0.         0.         0.         0.         0.\n",
      "  0.19188072 0.         0.         0.         0.         0.\n",
      "  0.         0.         0.10769702 0.19188072 0.29768185 0.\n",
      "  0.2197411  0.         0.         0.         0.         0.\n",
      "  0.         0.         0.         0.2197411  0.18416019 0.\n",
      "  0.         0.         0.        ]\n",
      " [0.         0.1326451  0.12196874 0.         0.         0.\n",
      "  0.         0.         0.11593161 0.         0.         0.11593161\n",
      "  0.         0.         0.077338   0.         0.11593161 0.077338\n",
      "  0.05793227 0.         0.         0.11593161 0.         0.19937906\n",
      "  0.         0.         0.12196874 0.         0.         0.1326451\n",
      "  0.12196874 0.         0.27643376 0.         0.         0.\n",
      "  0.         0.1326451  0.1326451  0.11593161 0.         0.\n",
      "  0.12196874 0.1326451  0.11593161 0.         0.10221932 0.1326451\n",
      "  0.         0.         0.11593161]]\n"
     ]
    }
   ],
   "source": [
    "from sklearn.feature_extraction.text import TfidfVectorizer\n",
    "from sklearn.cluster import KMeans\n",
    "import numpy as np\n",
    "\n",
    "# Ejemplo de documentos de texto relacionados con deportes y tecnología\n",
    "documents = [\n",
    "    \"El equipo de fútbol ganó el partido en tiempo extra.\",\n",
    "    \"Los avances en tecnología móvil continúan sorprendiendo.\",\n",
    "    \"El entrenador del equipo de baloncesto anunció cambios en la estrategia.\",\n",
    "    \"Nuevas aplicaciones móviles revolucionan la industria tecnológica.\",\n",
    "    \"Atletas de todo el mundo compiten en los Juegos Olímpicos.\",\n",
    "    \"La inteligencia artificial está remodelando el futuro de la tecnología.\",\n",
    "    \"Se está construyendo un nuevo estadio deportivo en la ciudad.\",\n",
    "    \"Los científicos están logrando avances en la computación cuántica.\"\n",
    "]\n",
    "\n",
    "# Crear un vectorizador TF-IDF\n",
    "vectorizer = TfidfVectorizer()\n",
    "\n",
    "# Calcular la representación TF-IDF de los documentos\n",
    "tfidf_matrix = vectorizer.fit_transform(documents)\n",
    "\n",
    "# Aplicar el algoritmo K-means con K=2 (2 clusters)\n",
    "# Con K=2 tampoco es que funcione excesivamente bien\n",
    "kmeans = KMeans(n_clusters=3)\n",
    "kmeans.fit(tfidf_matrix)\n",
    "\n",
    "# Obtener las etiquetas de cluster para cada documento\n",
    "labels = kmeans.labels_\n",
    "\n",
    "# Mostrar los resultados del clustering\n",
    "for i, document in enumerate(documents):\n",
    "    cluster = labels[i]\n",
    "    print(f\"Document: {document} - Cluster: {cluster}\")\n",
    "print()\n",
    "\n",
    "\n",
    "# Mostrar los centroides de los clusters\n",
    "centroids = kmeans.cluster_centers_\n",
    "print(\"Cluster Centroids:\")\n",
    "print(centroids)"
   ]
  },
  {
   "cell_type": "markdown",
   "metadata": {},
   "source": [
    "En este ejemplo, los documentos se han agrupado en tres grupos en función de su contenido. Los centroides de los clusters representan el documento \"medio\" dentro de cada cluster. Tenga en cuenta que los resultados pueden variar en función de los datos y de la elección de K. En la práctica, deberá ajustar los parámetros y evaluar el rendimiento de la agrupación."
   ]
  },
  {
   "cell_type": "markdown",
   "metadata": {},
   "source": [
    "## Visualización de agrupación de documentos"
   ]
  },
  {
   "cell_type": "markdown",
   "metadata": {},
   "source": [
    "A continuación, mostraremos cómo visualizar los resultados utilizando PCA en Python:"
   ]
  },
  {
   "cell_type": "code",
   "execution_count": 17,
   "metadata": {},
   "outputs": [
    {
     "data": {
      "image/png": "[encoded data removed]",
      "text/plain": [
       "<Figure size 800x600 with 1 Axes>"
      ]
     },
     "metadata": {},
     "output_type": "display_data"
    }
   ],
   "source": [
    "# Aplicar PCA para reducir la dimensionalidad\n",
    "pca = PCA(n_components=2)\n",
    "resultados_pca = pca.fit_transform(tfidf_matrix.toarray())\n",
    "\n",
    "# Graficar los documentos en un plano bidimensional\n",
    "plt.figure(figsize=(8, 6))\n",
    "plt.scatter(resultados_pca[:, 0], resultados_pca[:, 1], c=labels, cmap='viridis')\n",
    "plt.title(\"Visualización de Resultados de Clustering\")\n",
    "plt.xlabel(\"Componente Principal 1\")\n",
    "plt.ylabel(\"Componente Principal 2\")\n",
    "plt.show()"
   ]
  }
 ],
 "metadata": {
  "kernelspec": {
   "display_name": "Python 3",
   "language": "python",
   "name": "python3"
  },
  "language_info": {
   "codemirror_mode": {
    "name": "ipython",
    "version": 3
   },
   "file_extension": ".py",
   "mimetype": "text/x-python",
   "name": "python",
   "nbconvert_exporter": "python",
   "pygments_lexer": "ipython3",
   "version": "3.10.5"
  }
 },
 "nbformat": 4,
 "nbformat_minor": 2
}
