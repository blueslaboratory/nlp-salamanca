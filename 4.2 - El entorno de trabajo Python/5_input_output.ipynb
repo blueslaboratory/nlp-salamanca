{
 "cells": [
  {
   "cell_type": "code",
   "execution_count": 1,
   "metadata": {},
   "outputs": [
    {
     "name": "stdout",
     "output_type": "stream",
     "text": [
      "¡Hola, Luis Blázquez Miñambres! Bienvenido a Python.\n"
     ]
    }
   ],
   "source": [
    "# Solicitar el nombre del usuario\n",
    "nombre = input(\"Ingresa tu nombre: \")\n",
    "\n",
    "# Mostrar un mensaje de bienvenida\n",
    "print(\"¡Hola,\", nombre + \"! Bienvenido a Python.\")\n"
   ]
  }
 ],
 "metadata": {
  "kernelspec": {
   "display_name": "Python 3",
   "language": "python",
   "name": "python3"
  },
  "language_info": {
   "codemirror_mode": {
    "name": "ipython",
    "version": 3
   },
   "file_extension": ".py",
   "mimetype": "text/x-python",
   "name": "python",
   "nbconvert_exporter": "python",
   "pygments_lexer": "ipython3",
   "version": "3.10.7"
  }
 },
 "nbformat": 4,
 "nbformat_minor": 2
}
