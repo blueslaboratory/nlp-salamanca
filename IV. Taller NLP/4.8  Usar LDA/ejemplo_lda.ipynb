{
 "cells": [
  {
   "cell_type": "code",
   "execution_count": 75,
   "id": "b0fdd89e",
   "metadata": {},
   "outputs": [],
   "source": [
    "# 25/01/2024\n",
    "\n",
    "# Topic Modeling\n",
    "# LDA (Latent Dirichlet Allocation): \n",
    "# More info: \n",
    "# https://towardsdatascience.com/latent-dirichlet-allocation-lda-9d1cd064ffa2\n",
    "# https://blog.echen.me/2011/08/22/introduction-to-latent-dirichlet-allocation/\n",
    "# https://towardsdatascience.com/topic-modeling-and-latent-dirichlet-allocation-in-python-9bf156893c24\n",
    "\n",
    "# Topic modeling is a method for unsupervised classification of documents, similar to clustering\n",
    "# on numeric data, which finds some natural groups of items (topics) even when we’re not sure what we’re looking for.\n",
    "# LDA is one of the most popular topic modeling methods"
   ]
  },
  {
   "cell_type": "markdown",
   "id": "50e6138a-e0e6-40a1-984b-4a9f896bb812",
   "metadata": {},
   "source": [
    "# Taller de PLN - USAR LDA"
   ]
  },
  {
   "cell_type": "markdown",
   "id": "4ab902bc-3387-4ee2-8636-5e955baa5acf",
   "metadata": {},
   "source": [
    "Este ejemplo está diseñado para principiantes y se centra en el uso de la biblioteca gensim para aplicar LDA. Asegúrate de que gensim esté instalado en tu entorno de Python antes de ejecutar el código.\n",
    "\n",
    "Este ejemplo asumirá que tienes un conjunto de noticias en español en formato de texto, aunque podrías aplicar el mismo enfoque a otros tipos de textos. El objetivo es identificar temas latentes en el corpus de noticias utilizando LDA."
   ]
  },
  {
   "cell_type": "markdown",
   "id": "0d6fdce9-cfc7-45e1-ac1c-a3d534e3f515",
   "metadata": {},
   "source": [
    "Este código primero realiza el preprocesamiento de texto en el corpus de noticias, crea un diccionario y una representación de documento-bolsa de palabras, luego aplica el modelo LDA para identificar temas latentes y visualiza los resultados utilizando pyLDAvis.\n",
    "\n",
    "Este ejemplo proporciona una introducción básica al uso de LDA para identificar temas en un corpus de texto en español y está diseñado para principiantes en NLP y procesamiento de lenguaje natural. Puedes personalizar y ampliar este código según tus necesidades y el conjunto de datos específico que estés utilizando."
   ]
  },
  {
   "cell_type": "markdown",
   "id": "b6f961bc-5521-4f55-8ce9-e95ba7380a17",
   "metadata": {},
   "source": [
    "## Paso 1: Instalar las bibliotecas necesarias (asegúrate de tener gensim, nltk y pyLDAvis instalados):"
   ]
  },
  {
   "cell_type": "code",
   "execution_count": 76,
   "id": "ffd2514c-a18b-4a61-acee-820c43bff2cc",
   "metadata": {},
   "outputs": [],
   "source": [
    "# pip install gensim nltk pyLDAvis"
   ]
  },
  {
   "cell_type": "markdown",
   "id": "0b04e8e4-9f02-432f-9db0-dc3f6fa4a558",
   "metadata": {},
   "source": [
    "### Importar bibliotecas a utilizar"
   ]
  },
  {
   "cell_type": "code",
   "execution_count": 77,
   "id": "90a5909f-d3b6-4c34-aa6c-8402a9711010",
   "metadata": {},
   "outputs": [],
   "source": [
    "import gensim\n",
    "import nltk\n",
    "from nltk.corpus import stopwords\n",
    "from nltk.tokenize import word_tokenize\n",
    "import pyLDAvis.gensim\n",
    "from gensim import corpora\n",
    "from gensim.models import LdaModel\n",
    "import re\n",
    "import pyLDAvis.gensim"
   ]
  },
  {
   "cell_type": "code",
   "execution_count": 78,
   "id": "f83f5961-ec09-464b-b3a9-b99aeab7265f",
   "metadata": {},
   "outputs": [
    {
     "name": "stderr",
     "output_type": "stream",
     "text": [
      "[nltk_data] Downloading package punkt to\n",
      "[nltk_data]     C:\\Users\\AlejandroDiezRedondo\\AppData\\Roaming\\nltk_dat\n",
      "[nltk_data]     a...\n",
      "[nltk_data]   Package punkt is already up-to-date!\n",
      "[nltk_data] Downloading package stopwords to\n",
      "[nltk_data]     C:\\Users\\AlejandroDiezRedondo\\AppData\\Roaming\\nltk_dat\n",
      "[nltk_data]     a...\n",
      "[nltk_data]   Package stopwords is already up-to-date!\n"
     ]
    },
    {
     "data": {
      "text/plain": [
       "True"
      ]
     },
     "execution_count": 78,
     "metadata": {},
     "output_type": "execute_result"
    }
   ],
   "source": [
    "# Descargar los recursos de NLTK necesarios\n",
    "nltk.download('punkt')\n",
    "nltk.download('stopwords')"
   ]
  },
  {
   "cell_type": "markdown",
   "id": "850c17a7-9a4a-4f98-92de-42ea7928caf3",
   "metadata": {},
   "source": [
    "## Paso 2: Importar las bibliotecas y cargar el corpus de noticias."
   ]
  },
  {
   "cell_type": "markdown",
   "id": "75d1ed63-6675-4738-94f6-9557f62b3484",
   "metadata": {},
   "source": [
    "Los temas que deberían salir:\n",
    "\n",
    "- Política y Gobierno: Dado que hay noticias relacionadas con el gobierno, la inversión en infraestructura y la legislación de inmigración, es probable que emerjan temas relacionados con la política y la gobernanza.\n",
    "\n",
    "- Medio Ambiente y Cambio Climático: Las noticias sobre la caída de los mercados bursátiles, el cambio climático y las protestas por el medio ambiente pueden dar lugar a temas relacionados con la sostenibilidad y el medio ambiente.\n",
    "\n",
    "- Tecnología y Ciencia: Las menciones a Apple, investigaciones científicas y avances tecnológicos sugieren la presencia de temas relacionados con la tecnología y la ciencia.\n",
    "\n",
    "- Cultura y Entretenimiento: Las noticias sobre películas, arte contemporáneo y música indican temas culturales y de entretenimiento.\n",
    "\n",
    "- Deportes: La referencia al Real Madrid y la clasificación de la selección de fútbol femenino para los Juegos Olímpicos apunta a temas deportivos.\n",
    "\n",
    "- Salud y Bienestar: La relación entre el consumo de café y la longevidad, así como las noticias sobre el cáncer, pueden generar temas relacionados con la salud y el bienestar.\n",
    "\n",
    "- Economía y Negocios: Las noticias sobre inversión en infraestructura, regulaciones de privacidad y la caída de los mercados bursátiles podrían dar lugar a temas económicos y empresariales.\n",
    "\n",
    "- Exploración Espacial: La mención de una sonda espacial española y un exoplaneta podría conducir a temas relacionados con la exploración espacial y la astronomía.\n",
    "\n",
    "- Educación: La inversión en educación y las reformas pueden generar temas relacionados con la educación y la pedagogía."
   ]
  },
  {
   "cell_type": "code",
   "execution_count": 79,
   "id": "c07edb47-6d0c-41ed-aefe-d7948bc9341c",
   "metadata": {},
   "outputs": [],
   "source": [
    "# Cargar el corpus de noticias en español\n",
    "corpus = [\n",
    "    \"El gobierno anuncia un nuevo plan de inversión en infraestructura.\",\n",
    "    \"Investigadores descubren una nueva especie de mariposa en la Amazonía.\",\n",
    "    \"Los mercados bursátiles experimentan una caída en medio de la incertidumbre económica.\",\n",
    "    \"Apple presenta su último modelo de iPhone con características innovadoras.\",\n",
    "    \"Estudio revela vínculos entre el consumo de café y la longevidad.\",\n",
    "    \"Una película española gana el premio a la mejor película en el Festival de Cine de Cannes.\",\n",
    "    \"El Real Madrid celebra su séptimo campeonato consecutivo de liga.\",\n",
    "    \"Protestas masivas exigen medidas concretas para combatir el cambio climático.\",\n",
    "    \"El gobierno anuncia una inversión récord en la educación pública.\",\n",
    "    \"Científicos españoles lideran un proyecto de investigación para encontrar la cura del cáncer.\",\n",
    "    \"Netflix lanza una nueva serie de ciencia ficción muy esperada.\",\n",
    "    \"Nuevas regulaciones de privacidad en línea generan un debate sobre la protección de datos.\",\n",
    "    \"Importante exposición de arte contemporáneo llega a una galería de renombre.\",\n",
    "    \"La pandemia de COVID-19 afecta la economía global y plantea desafíos en la atención médica.\",\n",
    "    \"Artista español de renombre recibe un premio por su contribución a la cultura.\",\n",
    "    \"La selección de fútbol femenino de España se clasifica para los Juegos Olímpicos.\",\n",
    "    \"Lanzamiento de una sonda espacial española para explorar un exoplaneta recién descubierto.\",\n",
    "    \"Nueva legislación de inmigración busca reformar el sistema de asilo.\",\n",
    "    \"Hallazgo arqueológico revela los secretos de una antigua civilización en la península ibérica.\",\n",
    "    \"Gira internacional de una banda de música española cosecha éxitos en todo el mundo.\",\n",
    "    \"Desarrollo de vehículos eléctricos en España gana impulso con el lanzamiento de nuevos modelos.\"\n",
    "]\n",
    "\n",
    "# Preprocesamiento de texto\n",
    "def preprocess_text(text):\n",
    "    text = re.sub(r'\\d+', '', text)  # Eliminar números\n",
    "    text = text.lower()  # Convertir a minúsculas\n",
    "    text = re.sub(r'[^\\w\\s]', '', text)  # Eliminar puntuación\n",
    "    words = word_tokenize(text)  # Tokenización de palabras\n",
    "\n",
    "    '''\n",
    "    list comprehension:\n",
    "    The 1º word is the expression that gets included in the new list.\n",
    "    The 2º word is the variable that takes each value from the iterable (words in this case) during each iteration of the loop.\n",
    "    '''\n",
    "    words = [word for word in words if word not in stopwords.words('spanish')]  # Eliminar palabras de parada en español\n",
    "\n",
    "    return words\n",
    "\n",
    "# Aplicar preprocesamiento a cada noticia\n",
    "processed_corpus = [preprocess_text(news) for news in corpus]"
   ]
  },
  {
   "cell_type": "code",
   "execution_count": 80,
   "id": "62fbb075",
   "metadata": {},
   "outputs": [
    {
     "name": "stdout",
     "output_type": "stream",
     "text": [
      "0 ['gobierno', 'anuncia', 'nuevo', 'plan', 'inversión', 'infraestructura']\n",
      "1 ['investigadores', 'descubren', 'nueva', 'especie', 'mariposa', 'amazonía']\n",
      "2 ['mercados', 'bursátiles', 'experimentan', 'caída', 'medio', 'incertidumbre', 'económica']\n",
      "3 ['apple', 'presenta', 'último', 'modelo', 'iphone', 'características', 'innovadoras']\n",
      "4 ['estudio', 'revela', 'vínculos', 'consumo', 'café', 'longevidad']\n",
      "5 ['película', 'española', 'gana', 'premio', 'mejor', 'película', 'festival', 'cine', 'cannes']\n",
      "6 ['real', 'madrid', 'celebra', 'séptimo', 'campeonato', 'consecutivo', 'liga']\n",
      "7 ['protestas', 'masivas', 'exigen', 'medidas', 'concretas', 'combatir', 'cambio', 'climático']\n",
      "8 ['gobierno', 'anuncia', 'inversión', 'récord', 'educación', 'pública']\n",
      "9 ['científicos', 'españoles', 'lideran', 'proyecto', 'investigación', 'encontrar', 'cura', 'cáncer']\n",
      "10 ['netflix', 'lanza', 'nueva', 'serie', 'ciencia', 'ficción', 'esperada']\n",
      "11 ['nuevas', 'regulaciones', 'privacidad', 'línea', 'generan', 'debate', 'protección', 'datos']\n",
      "12 ['importante', 'exposición', 'arte', 'contemporáneo', 'llega', 'galería', 'renombre']\n",
      "13 ['pandemia', 'covid', 'afecta', 'economía', 'global', 'plantea', 'desafíos', 'atención', 'médica']\n",
      "14 ['artista', 'español', 'renombre', 'recibe', 'premio', 'contribución', 'cultura']\n",
      "15 ['selección', 'fútbol', 'femenino', 'españa', 'clasifica', 'juegos', 'olímpicos']\n",
      "16 ['lanzamiento', 'sonda', 'espacial', 'española', 'explorar', 'exoplaneta', 'recién', 'descubierto']\n",
      "17 ['nueva', 'legislación', 'inmigración', 'busca', 'reformar', 'sistema', 'asilo']\n",
      "18 ['hallazgo', 'arqueológico', 'revela', 'secretos', 'antigua', 'civilización', 'península', 'ibérica']\n",
      "19 ['gira', 'internacional', 'banda', 'música', 'española', 'cosecha', 'éxitos', 'mundo']\n",
      "20 ['desarrollo', 'vehículos', 'eléctricos', 'españa', 'gana', 'impulso', 'lanzamiento', 'nuevos', 'modelos']\n"
     ]
    }
   ],
   "source": [
    "i = 0\n",
    "\n",
    "for processed_news in processed_corpus:\n",
    "    print(i, processed_news)\n",
    "    i += 1"
   ]
  },
  {
   "cell_type": "markdown",
   "id": "bbf5b2a5-9d3f-4595-bf4b-d7bbc8dbd575",
   "metadata": {},
   "source": [
    "## Paso 3: Crear un diccionario y una representación de documento-bolsa de palabras."
   ]
  },
  {
   "cell_type": "code",
   "execution_count": 81,
   "id": "ae2c98e4-f7d9-4938-a1d1-59caedcd87fd",
   "metadata": {},
   "outputs": [],
   "source": [
    "# Crear un diccionario basado en el corpus preprocesado\n",
    "dictionary = corpora.Dictionary(processed_corpus)\n",
    "\n",
    "# Crear una representación de documento-bolsa de palabras\n",
    "corpus_bow = [dictionary.doc2bow(text) for text in processed_corpus]"
   ]
  },
  {
   "cell_type": "code",
   "execution_count": 82,
   "id": "fb36c5d6",
   "metadata": {},
   "outputs": [
    {
     "name": "stdout",
     "output_type": "stream",
     "text": [
      "Dictionary<141 unique tokens: ['anuncia', 'gobierno', 'infraestructura', 'inversión', 'nuevo']...>\n"
     ]
    }
   ],
   "source": [
    "print(dictionary)"
   ]
  },
  {
   "cell_type": "code",
   "execution_count": 83,
   "id": "e53d25b5",
   "metadata": {},
   "outputs": [
    {
     "name": "stdout",
     "output_type": "stream",
     "text": [
      "[[(0, 1), (1, 1), (2, 1), (3, 1), (4, 1), (5, 1)], [(6, 1), (7, 1), (8, 1), (9, 1), (10, 1), (11, 1)], [(12, 1), (13, 1), (14, 1), (15, 1), (16, 1), (17, 1), (18, 1)], [(19, 1), (20, 1), (21, 1), (22, 1), (23, 1), (24, 1), (25, 1)], [(26, 1), (27, 1), (28, 1), (29, 1), (30, 1), (31, 1)], [(32, 1), (33, 1), (34, 1), (35, 1), (36, 1), (37, 1), (38, 2), (39, 1)], [(40, 1), (41, 1), (42, 1), (43, 1), (44, 1), (45, 1), (46, 1)], [(47, 1), (48, 1), (49, 1), (50, 1), (51, 1), (52, 1), (53, 1), (54, 1)], [(0, 1), (1, 1), (3, 1), (55, 1), (56, 1), (57, 1)], [(58, 1), (59, 1), (60, 1), (61, 1), (62, 1), (63, 1), (64, 1), (65, 1)], [(11, 1), (66, 1), (67, 1), (68, 1), (69, 1), (70, 1), (71, 1)], [(72, 1), (73, 1), (74, 1), (75, 1), (76, 1), (77, 1), (78, 1), (79, 1)], [(80, 1), (81, 1), (82, 1), (83, 1), (84, 1), (85, 1), (86, 1)], [(87, 1), (88, 1), (89, 1), (90, 1), (91, 1), (92, 1), (93, 1), (94, 1), (95, 1)], [(39, 1), (86, 1), (96, 1), (97, 1), (98, 1), (99, 1), (100, 1)], [(101, 1), (102, 1), (103, 1), (104, 1), (105, 1), (106, 1), (107, 1)], [(34, 1), (108, 1), (109, 1), (110, 1), (111, 1), (112, 1), (113, 1), (114, 1)], [(11, 1), (115, 1), (116, 1), (117, 1), (118, 1), (119, 1), (120, 1)], [(30, 1), (121, 1), (122, 1), (123, 1), (124, 1), (125, 1), (126, 1), (127, 1)], [(34, 1), (128, 1), (129, 1), (130, 1), (131, 1), (132, 1), (133, 1), (134, 1)], [(36, 1), (102, 1), (112, 1), (135, 1), (136, 1), (137, 1), (138, 1), (139, 1), (140, 1)]]\n"
     ]
    }
   ],
   "source": [
    "print(corpus_bow)"
   ]
  },
  {
   "cell_type": "markdown",
   "id": "02adcf45-e0cc-4041-84e9-4a084625bf58",
   "metadata": {},
   "source": [
    "## Paso 4: Aplicar el modelo LDA y explorar los temas latentes."
   ]
  },
  {
   "cell_type": "code",
   "execution_count": 84,
   "id": "df84626e-a3e2-4c0d-94e0-8a1e69eb66c8",
   "metadata": {},
   "outputs": [],
   "source": [
    "# Entrenar un modelo LDA con 3 temas (ajusta el número según sea necesario)\n",
    "lda_model = LdaModel(corpus=corpus_bow, num_topics=3, id2word=dictionary, passes=15)"
   ]
  },
  {
   "cell_type": "code",
   "execution_count": 85,
   "id": "5408f023-979a-4d7f-bc04-7c1ac113925f",
   "metadata": {},
   "outputs": [
    {
     "name": "stdout",
     "output_type": "stream",
     "text": [
      "(0, '0.026*\"inversión\" + 0.026*\"gobierno\" + 0.026*\"anuncia\" + 0.015*\"española\" + 0.015*\"renombre\"')\n",
      "(1, '0.024*\"nueva\" + 0.024*\"lanzamiento\" + 0.013*\"gana\" + 0.013*\"españa\" + 0.013*\"española\"')\n",
      "(2, '0.022*\"película\" + 0.012*\"revela\" + 0.012*\"premio\" + 0.012*\"exigen\" + 0.012*\"cine\"')\n"
     ]
    }
   ],
   "source": [
    "# Imprimir los temas y sus palabras clave (cambian en cada run all)\n",
    "topics = lda_model.print_topics(num_words=5)\n",
    "for topic in topics:\n",
    "    print(topic)"
   ]
  },
  {
   "cell_type": "code",
   "execution_count": 86,
   "id": "bb176e72-b45d-4775-a3d9-dd58099fb44f",
   "metadata": {},
   "outputs": [],
   "source": [
    "# Visualizar los temas con pyLDAvis\n",
    "pyLDAvis.enable_notebook()\n",
    "vis = pyLDAvis.gensim.prepare(lda_model, corpus_bow, dictionary)"
   ]
  },
  {
   "cell_type": "code",
   "execution_count": 87,
   "id": "1b5e134d-79d1-4772-be88-5b7dd3f05832",
   "metadata": {},
   "outputs": [
    {
     "data": {
      "text/html": [
       "\n",
       "<link rel=\"stylesheet\" type=\"text/css\" href=\"https://cdn.jsdelivr.net/gh/bmabey/pyLDAvis@3.4.0/pyLDAvis/js/ldavis.v1.0.0.css\">\n",
       "\n",
       "\n",
       "<div id=\"ldavis_el2622818017799596643127669291\" style=\"background-color:white;\"></div>\n",
       "<script type=\"text/javascript\">\n",
       "\n",
       "var ldavis_el2622818017799596643127669291_data = {\"mdsDat\": {\"x\": [-0.09273702132342365, 0.026884941170173447, 0.0658520801532502], \"y\": [0.020894315443540385, -0.08503602775662718, 0.0641417123130868], \"topics\": [1, 2, 3], \"cluster\": [1, 1, 1], \"Freq\": [38.746250779864575, 33.55578551817684, 27.697963701958585]}, \"tinfo\": {\"Term\": [\"inversi\\u00f3n\", \"gobierno\", \"anuncia\", \"lanzamiento\", \"pel\\u00edcula\", \"protecci\\u00f3n\", \"privacidad\", \"nuevas\", \"generan\", \"regulaciones\", \"datos\", \"l\\u00ednea\", \"banda\", \"gira\", \"m\\u00fasica\", \"mundo\", \"internacional\", \"debate\", \"cosecha\", \"\\u00e9xitos\", \"contempor\\u00e1neo\", \"llega\", \"femenino\", \"galer\\u00eda\", \"juegos\", \"clasifica\", \"importante\", \"arte\", \"f\\u00fatbol\", \"ol\\u00edmpicos\", \"pel\\u00edcula\", \"exigen\", \"clim\\u00e1tico\", \"cine\", \"combatir\", \"concretas\", \"investigaci\\u00f3n\", \"cient\\u00edficos\", \"c\\u00e1ncer\", \"mejor\", \"cambio\", \"cannes\", \"encontrar\", \"proyecto\", \"medidas\", \"festival\", \"protestas\", \"masivas\", \"cura\", \"lideran\", \"espa\\u00f1oles\", \"pen\\u00ednsula\", \"ib\\u00e9rica\", \"antigua\", \"arqueol\\u00f3gico\", \"hallazgo\", \"civilizaci\\u00f3n\", \"secretos\", \"incertidumbre\", \"burs\\u00e1tiles\", \"revela\", \"premio\", \"lanzamiento\", \"impulso\", \"veh\\u00edculos\", \"modelos\", \"nuevos\", \"el\\u00e9ctricos\", \"desarrollo\", \"explorar\", \"sonda\", \"descubierto\", \"exoplaneta\", \"espacial\", \"reci\\u00e9n\", \"serie\", \"esperada\", \"lanza\", \"netflix\", \"ciencia\", \"ficci\\u00f3n\", \"afecta\", \"investigadores\", \"descubren\", \"mariposa\", \"consumo\", \"especie\", \"v\\u00ednculos\", \"global\", \"estudio\", \"caf\\u00e9\", \"amazon\\u00eda\", \"nueva\", \"gana\", \"espa\\u00f1a\", \"espa\\u00f1ola\", \"premio\", \"inversi\\u00f3n\", \"gobierno\", \"anuncia\", \"protecci\\u00f3n\", \"privacidad\", \"nuevas\", \"generan\", \"regulaciones\", \"datos\", \"l\\u00ednea\", \"banda\", \"gira\", \"m\\u00fasica\", \"mundo\", \"internacional\", \"debate\", \"cosecha\", \"\\u00e9xitos\", \"contempor\\u00e1neo\", \"llega\", \"femenino\", \"galer\\u00eda\", \"juegos\", \"clasifica\", \"importante\", \"arte\", \"f\\u00fatbol\", \"ol\\u00edmpicos\", \"exposici\\u00f3n\", \"selecci\\u00f3n\", \"espa\\u00f1ola\", \"renombre\", \"espa\\u00f1a\"], \"Freq\": [1.0, 1.0, 1.0, 1.0, 1.0, 1.0, 1.0, 1.0, 1.0, 1.0, 1.0, 1.0, 1.0, 1.0, 1.0, 1.0, 1.0, 1.0, 1.0, 1.0, 1.0, 1.0, 1.0, 1.0, 1.0, 1.0, 1.0, 1.0, 1.0, 1.0, 1.2976626981273442, 0.7413621431480464, 0.7413581719653511, 0.7413585075582549, 0.7413569414580372, 0.7413566058651333, 0.7413562702722295, 0.7413555431542712, 0.7413552075613674, 0.741355878747175, 0.7413545923077104, 0.7413554872221206, 0.7413546482398611, 0.7413539770540534, 0.7413528584110407, 0.7413507889214671, 0.7413500618035088, 0.7413499499392076, 0.7413494465498518, 0.7413481601103872, 0.7413476567210314, 0.7413465940101693, 0.7413429024882273, 0.7413425668953235, 0.7413420635059678, 0.7413411126594069, 0.7413399940163943, 0.7413396584234904, 0.7412999465965383, 0.7412989398178269, 0.742051674701096, 0.7416124395221457, 1.2254059153063588, 0.7001053654692727, 0.7001052201509094, 0.7001052201509094, 0.7001052201509094, 0.7001037185278209, 0.7001019262680057, 0.7000673404975178, 0.7000631262649794, 0.7000632715833428, 0.700062254354799, 0.7000568775753534, 0.7000555697100829, 0.7000355157759344, 0.7000348376235719, 0.700033287561029, 0.7000320281352129, 0.700027038871403, 0.7000233090334093, 0.6999901280071008, 0.6999710428620416, 0.6999677005396835, 0.6999617424867843, 0.6999580126487905, 0.6999573829358825, 0.6999565110257021, 0.6999476950449895, 0.6999534109006164, 0.6999522483537092, 0.6999486153946244, 1.2317257140514846, 0.7011803822822121, 0.7004082573780417, 0.7002758239095347, 0.7001182988036149, 1.1248083306589778, 1.1248048121201533, 1.1247930570018077, 0.6426869455723476, 0.6426854661867054, 0.6426852262863311, 0.6426842666848335, 0.6426833470667316, 0.6426820675980681, 0.6426809080795919, 0.6426792687603669, 0.6426773495573717, 0.6426763099890825, 0.6426758701717294, 0.6426748306034404, 0.6426739109853385, 0.642671432014803, 0.6426647547877157, 0.6426486014958395, 0.6426480817116949, 0.6426436835381643, 0.6426406448000885, 0.642640125015944, 0.6426396452151952, 0.6426394852816123, 0.642638165829553, 0.6426351670748731, 0.6426322882703803, 0.6426318884364229, 0.6426314486190698, 0.6444219850467936, 0.6436087227775805, 0.6426713120646159], \"Total\": [1.0, 1.0, 1.0, 1.0, 1.0, 1.0, 1.0, 1.0, 1.0, 1.0, 1.0, 1.0, 1.0, 1.0, 1.0, 1.0, 1.0, 1.0, 1.0, 1.0, 1.0, 1.0, 1.0, 1.0, 1.0, 1.0, 1.0, 1.0, 1.0, 1.0, 1.633855068434462, 1.0775430506296293, 1.0775427835765599, 1.0775438510943296, 1.0775425077111813, 1.0775423957063335, 1.077542640501902, 1.0775425114377808, 1.0775424145968024, 1.0775436139026595, 1.0775420697758564, 1.0775433837448194, 1.0775422759347832, 1.077542514949313, 1.0775420990402966, 1.0775427792801664, 1.0775417840659647, 1.077541846724891, 1.077541927611845, 1.0775417749313392, 1.077541618916915, 1.0775420128644684, 1.0775418026156292, 1.0775417050431177, 1.0775415913601367, 1.077541558515163, 1.0775414634683131, 1.077541388341706, 1.077537041916584, 1.0775370646080138, 1.6028624074671805, 1.6028398930681687, 1.5718801890944687, 1.0465721711730713, 1.0465719910850941, 1.0465720145064386, 1.046572099980102, 1.0465719840158436, 1.0465718227663505, 1.0465712072009763, 1.0465707060288774, 1.0465709241902874, 1.0465709917972834, 1.0465707517133507, 1.0465708800022617, 1.0465709327412425, 1.046571077455122, 1.0465712568560264, 1.0465709543268664, 1.0465713041716913, 1.0465709093503321, 1.046561552913401, 1.0465697926386879, 1.0465695164629385, 1.0465694834952703, 1.0465701718097078, 1.0465695057374294, 1.0465699941276554, 1.046558842926046, 1.0465700881995703, 1.0465705658925937, 1.046568735377106, 2.1277729711455304, 1.6027858541697189, 1.5288226489178018, 2.084864346452364, 1.6028398930681687, 1.4857324790760171, 1.4857327854625288, 1.4857346136248077, 1.0035113861152354, 1.0035116467219982, 1.0035116430047681, 1.0035117780896268, 1.0035118977019437, 1.0035119194267461, 1.0035122094953395, 1.0035122457230696, 1.0035125413280115, 1.0035125388039687, 1.0035125596376464, 1.0035127533206647, 1.0035131061772384, 1.0035131680419616, 1.0035138803308514, 1.003515539188035, 1.0035155904406543, 1.003516078474682, 1.0035165943037003, 1.0035165356468, 1.0035165419323067, 1.003516666984249, 1.0035168299473243, 1.0035170727582101, 1.0035175156078018, 1.0035176177662395, 1.0035173450194854, 2.084864346452364, 1.5287503524292607, 1.5288226489178018], \"Category\": [\"Default\", \"Default\", \"Default\", \"Default\", \"Default\", \"Default\", \"Default\", \"Default\", \"Default\", \"Default\", \"Default\", \"Default\", \"Default\", \"Default\", \"Default\", \"Default\", \"Default\", \"Default\", \"Default\", \"Default\", \"Default\", \"Default\", \"Default\", \"Default\", \"Default\", \"Default\", \"Default\", \"Default\", \"Default\", \"Default\", \"Topic1\", \"Topic1\", \"Topic1\", \"Topic1\", \"Topic1\", \"Topic1\", \"Topic1\", \"Topic1\", \"Topic1\", \"Topic1\", \"Topic1\", \"Topic1\", \"Topic1\", \"Topic1\", \"Topic1\", \"Topic1\", \"Topic1\", \"Topic1\", \"Topic1\", \"Topic1\", \"Topic1\", \"Topic1\", \"Topic1\", \"Topic1\", \"Topic1\", \"Topic1\", \"Topic1\", \"Topic1\", \"Topic1\", \"Topic1\", \"Topic1\", \"Topic1\", \"Topic2\", \"Topic2\", \"Topic2\", \"Topic2\", \"Topic2\", \"Topic2\", \"Topic2\", \"Topic2\", \"Topic2\", \"Topic2\", \"Topic2\", \"Topic2\", \"Topic2\", \"Topic2\", \"Topic2\", \"Topic2\", \"Topic2\", \"Topic2\", \"Topic2\", \"Topic2\", \"Topic2\", \"Topic2\", \"Topic2\", \"Topic2\", \"Topic2\", \"Topic2\", \"Topic2\", \"Topic2\", \"Topic2\", \"Topic2\", \"Topic2\", \"Topic2\", \"Topic2\", \"Topic2\", \"Topic2\", \"Topic3\", \"Topic3\", \"Topic3\", \"Topic3\", \"Topic3\", \"Topic3\", \"Topic3\", \"Topic3\", \"Topic3\", \"Topic3\", \"Topic3\", \"Topic3\", \"Topic3\", \"Topic3\", \"Topic3\", \"Topic3\", \"Topic3\", \"Topic3\", \"Topic3\", \"Topic3\", \"Topic3\", \"Topic3\", \"Topic3\", \"Topic3\", \"Topic3\", \"Topic3\", \"Topic3\", \"Topic3\", \"Topic3\", \"Topic3\", \"Topic3\", \"Topic3\", \"Topic3\"], \"logprob\": [30.0, 29.0, 28.0, 27.0, 26.0, 25.0, 24.0, 23.0, 22.0, 21.0, 20.0, 19.0, 18.0, 17.0, 16.0, 15.0, 14.0, 13.0, 12.0, 11.0, 10.0, 9.0, 8.0, 7.0, 6.0, 5.0, 4.0, 3.0, 2.0, 1.0, -3.8347, -4.3946, -4.3946, -4.3946, -4.3946, -4.3946, -4.3946, -4.3946, -4.3946, -4.3946, -4.3946, -4.3946, -4.3946, -4.3946, -4.3946, -4.3946, -4.3946, -4.3946, -4.3946, -4.3946, -4.3946, -4.3946, -4.3946, -4.3946, -4.3946, -4.3946, -4.3946, -4.3946, -4.3946, -4.3946, -4.3936, -4.3942, -3.7482, -4.308, -4.308, -4.308, -4.308, -4.308, -4.308, -4.308, -4.308, -4.308, -4.3081, -4.3081, -4.3081, -4.3081, -4.3081, -4.3081, -4.3081, -4.3081, -4.3081, -4.3082, -4.3082, -4.3082, -4.3082, -4.3082, -4.3082, -4.3082, -4.3082, -4.3082, -4.3082, -4.3082, -3.743, -4.3065, -4.3076, -4.3077, -4.308, -3.642, -3.642, -3.642, -4.2017, -4.2017, -4.2017, -4.2017, -4.2017, -4.2017, -4.2017, -4.2017, -4.2017, -4.2017, -4.2017, -4.2017, -4.2017, -4.2017, -4.2017, -4.2018, -4.2018, -4.2018, -4.2018, -4.2018, -4.2018, -4.2018, -4.2018, -4.2018, -4.2018, -4.2018, -4.2018, -4.199, -4.2003, -4.2017], \"loglift\": [30.0, 29.0, 28.0, 27.0, 26.0, 25.0, 24.0, 23.0, 22.0, 21.0, 20.0, 19.0, 18.0, 17.0, 16.0, 15.0, 14.0, 13.0, 12.0, 11.0, 10.0, 9.0, 8.0, 7.0, 6.0, 5.0, 4.0, 3.0, 2.0, 1.0, 0.7178, 0.5742, 0.5742, 0.5742, 0.5742, 0.5742, 0.5742, 0.5742, 0.5742, 0.5742, 0.5742, 0.5742, 0.5742, 0.5742, 0.5742, 0.5742, 0.5742, 0.5742, 0.5742, 0.5742, 0.5742, 0.5742, 0.5742, 0.5742, 0.5742, 0.5742, 0.5742, 0.5742, 0.5741, 0.5741, 0.178, 0.1774, 0.843, 0.6899, 0.6899, 0.6899, 0.6899, 0.6899, 0.6899, 0.6899, 0.6899, 0.6899, 0.6899, 0.6898, 0.6898, 0.6898, 0.6898, 0.6898, 0.6898, 0.6898, 0.6898, 0.6898, 0.6897, 0.6897, 0.6897, 0.6897, 0.6897, 0.6897, 0.6897, 0.6897, 0.6897, 0.6897, 0.5453, 0.2652, 0.3114, 0.001, 0.2637, 1.0055, 1.0055, 1.0055, 0.8382, 0.8382, 0.8382, 0.8382, 0.8382, 0.8382, 0.8382, 0.8382, 0.8382, 0.8382, 0.8382, 0.8382, 0.8382, 0.8382, 0.8382, 0.8381, 0.8381, 0.8381, 0.8381, 0.8381, 0.8381, 0.8381, 0.8381, 0.8381, 0.8381, 0.8381, 0.8381, 0.1097, 0.4187, 0.4172]}, \"token.table\": {\"Topic\": [2, 2, 1, 3, 1, 3, 3, 1, 2, 1, 1, 2, 1, 1, 1, 3, 1, 1, 1, 2, 3, 3, 1, 1, 3, 3, 2, 2, 2, 2, 1, 2, 2, 3, 1, 2, 3, 1, 2, 2, 2, 1, 2, 2, 3, 3, 1, 2, 3, 3, 1, 2, 3, 3, 2, 3, 1, 1, 3, 2, 1, 3, 3, 1, 2, 3, 2, 2, 1, 3, 3, 2, 1, 1, 1, 2, 3, 3, 2, 1, 2, 3, 2, 3, 1, 1, 1, 2, 3, 3, 1, 1, 2, 3, 2, 3, 1, 2, 1, 3, 2, 2, 2, 2, 3], \"Freq\": [0.9555099718848035, 0.9555034143454265, 0.9280383258669186, 0.6730677139978983, 0.92803842377698, 0.9964954948015083, 0.9965000469719839, 0.9280423224826886, 0.9555017431119183, 0.9280380117390811, 0.9280368800787115, 0.9555010690756994, 0.9280376313558946, 0.928036477572975, 0.9280385339245061, 0.9964957808014451, 0.9280373969753838, 0.9280376345654426, 0.9280377310300593, 0.9555021029032582, 0.9964967765313534, 0.9964991310987813, 0.9280381341784991, 0.9280377147605671, 0.9965003709883663, 0.9964991925311059, 0.9555005956081929, 0.9555014159921188, 0.9555027012249238, 0.9555004483904295, 0.928037834183801, 0.9555015734606482, 0.6540981066102493, 0.6540981066102493, 0.4796475136147897, 0.4796475136147897, 0.4796475136147897, 0.928038400043559, 0.9555027110171572, 0.9555012760639575, 0.9555021792380045, 0.9280371669750741, 0.9555013542680877, 0.9555011576082534, 0.9964947124953626, 0.9964962410168592, 0.9280374006756674, 0.9555014295407451, 0.9964952536895627, 0.9964957287964527, 0.6239136671929413, 0.6239136671929413, 0.9965005113379815, 0.9964997534327144, 0.9555124461077856, 0.6730685421932628, 0.928038452064889, 0.9280382418320998, 0.9964956566244014, 0.9555002775194471, 0.9280423420259678, 0.9964995429215614, 0.6730686809928957, 0.9280375201989373, 0.9555024490805599, 0.9964957870429773, 0.9555011122740656, 0.6361808024160427, 0.928038265675333, 0.9964967256372065, 0.9965000829465684, 0.9555027313239247, 0.92803820384278, 0.9280379865349495, 0.92803668185475, 0.9555004205530933, 0.9964997352510319, 0.9964997559391184, 0.9555013884779365, 0.46997495200892103, 0.46997495200892103, 0.9965006454790566, 0.9555003425172642, 0.9964948139388765, 0.6120493912340625, 0.9280380607542756, 0.6238926322739523, 0.6238926322739523, 0.9965006417877967, 0.9965009005739053, 0.9280382578080909, 0.928037628331574, 0.9555014563350348, 0.9965003925613777, 0.654129039715968, 0.654129039715968, 0.6238838688469743, 0.6238838688469743, 0.9280385986277156, 0.99649498333343, 0.9555014081852427, 0.9555016151698094, 0.9555004419363374, 0.9555022651242043, 0.9964984237889236], \"Term\": [\"afecta\", \"amazon\\u00eda\", \"antigua\", \"anuncia\", \"arqueol\\u00f3gico\", \"arte\", \"banda\", \"burs\\u00e1tiles\", \"caf\\u00e9\", \"cambio\", \"cannes\", \"ciencia\", \"cient\\u00edficos\", \"cine\", \"civilizaci\\u00f3n\", \"clasifica\", \"clim\\u00e1tico\", \"combatir\", \"concretas\", \"consumo\", \"contempor\\u00e1neo\", \"cosecha\", \"cura\", \"c\\u00e1ncer\", \"datos\", \"debate\", \"desarrollo\", \"descubierto\", \"descubren\", \"el\\u00e9ctricos\", \"encontrar\", \"espacial\", \"espa\\u00f1a\", \"espa\\u00f1a\", \"espa\\u00f1ola\", \"espa\\u00f1ola\", \"espa\\u00f1ola\", \"espa\\u00f1oles\", \"especie\", \"esperada\", \"estudio\", \"exigen\", \"exoplaneta\", \"explorar\", \"exposici\\u00f3n\", \"femenino\", \"festival\", \"ficci\\u00f3n\", \"f\\u00fatbol\", \"galer\\u00eda\", \"gana\", \"gana\", \"generan\", \"gira\", \"global\", \"gobierno\", \"hallazgo\", \"ib\\u00e9rica\", \"importante\", \"impulso\", \"incertidumbre\", \"internacional\", \"inversi\\u00f3n\", \"investigaci\\u00f3n\", \"investigadores\", \"juegos\", \"lanza\", \"lanzamiento\", \"lideran\", \"llega\", \"l\\u00ednea\", \"mariposa\", \"masivas\", \"medidas\", \"mejor\", \"modelos\", \"mundo\", \"m\\u00fasica\", \"netflix\", \"nueva\", \"nueva\", \"nuevas\", \"nuevos\", \"ol\\u00edmpicos\", \"pel\\u00edcula\", \"pen\\u00ednsula\", \"premio\", \"premio\", \"privacidad\", \"protecci\\u00f3n\", \"protestas\", \"proyecto\", \"reci\\u00e9n\", \"regulaciones\", \"renombre\", \"renombre\", \"revela\", \"revela\", \"secretos\", \"selecci\\u00f3n\", \"serie\", \"sonda\", \"veh\\u00edculos\", \"v\\u00ednculos\", \"\\u00e9xitos\"]}, \"R\": 30, \"lambda.step\": 0.01, \"plot.opts\": {\"xlab\": \"PC1\", \"ylab\": \"PC2\"}, \"topic.order\": [3, 2, 1]};\n",
       "\n",
       "function LDAvis_load_lib(url, callback){\n",
       "  var s = document.createElement('script');\n",
       "  s.src = url;\n",
       "  s.async = true;\n",
       "  s.onreadystatechange = s.onload = callback;\n",
       "  s.onerror = function(){console.warn(\"failed to load library \" + url);};\n",
       "  document.getElementsByTagName(\"head\")[0].appendChild(s);\n",
       "}\n",
       "\n",
       "if(typeof(LDAvis) !== \"undefined\"){\n",
       "   // already loaded: just create the visualization\n",
       "   !function(LDAvis){\n",
       "       new LDAvis(\"#\" + \"ldavis_el2622818017799596643127669291\", ldavis_el2622818017799596643127669291_data);\n",
       "   }(LDAvis);\n",
       "}else if(typeof define === \"function\" && define.amd){\n",
       "   // require.js is available: use it to load d3/LDAvis\n",
       "   require.config({paths: {d3: \"https://d3js.org/d3.v5\"}});\n",
       "   require([\"d3\"], function(d3){\n",
       "      window.d3 = d3;\n",
       "      LDAvis_load_lib(\"https://cdn.jsdelivr.net/gh/bmabey/pyLDAvis@3.4.0/pyLDAvis/js/ldavis.v3.0.0.js\", function(){\n",
       "        new LDAvis(\"#\" + \"ldavis_el2622818017799596643127669291\", ldavis_el2622818017799596643127669291_data);\n",
       "      });\n",
       "    });\n",
       "}else{\n",
       "    // require.js not available: dynamically load d3 & LDAvis\n",
       "    LDAvis_load_lib(\"https://d3js.org/d3.v5.js\", function(){\n",
       "         LDAvis_load_lib(\"https://cdn.jsdelivr.net/gh/bmabey/pyLDAvis@3.4.0/pyLDAvis/js/ldavis.v3.0.0.js\", function(){\n",
       "                 new LDAvis(\"#\" + \"ldavis_el2622818017799596643127669291\", ldavis_el2622818017799596643127669291_data);\n",
       "            })\n",
       "         });\n",
       "}\n",
       "</script>"
      ],
      "text/plain": [
       "PreparedData(topic_coordinates=              x         y  topics  cluster       Freq\n",
       "topic                                                \n",
       "2     -0.092737  0.020894       1        1  38.746251\n",
       "1      0.026885 -0.085036       2        1  33.555786\n",
       "0      0.065852  0.064142       3        1  27.697964, topic_info=            Term      Freq     Total Category  logprob  loglift\n",
       "3      inversión  1.000000  1.000000  Default  30.0000  30.0000\n",
       "1       gobierno  1.000000  1.000000  Default  29.0000  29.0000\n",
       "0        anuncia  1.000000  1.000000  Default  28.0000  28.0000\n",
       "112  lanzamiento  1.000000  1.000000  Default  27.0000  27.0000\n",
       "38      película  1.000000  1.000000  Default  26.0000  26.0000\n",
       "..           ...       ...       ...      ...      ...      ...\n",
       "82    exposición  0.642632  1.003518   Topic3  -4.2018   0.8381\n",
       "107    selección  0.642631  1.003517   Topic3  -4.2018   0.8381\n",
       "34      española  0.644422  2.084864   Topic3  -4.1990   0.1097\n",
       "86      renombre  0.643609  1.528750   Topic3  -4.2003   0.4187\n",
       "102       españa  0.642671  1.528823   Topic3  -4.2017   0.4172\n",
       "\n",
       "[130 rows x 6 columns], token_table=      Topic      Freq          Term\n",
       "term                               \n",
       "87        2  0.955510        afecta\n",
       "6         2  0.955503      amazonía\n",
       "121       1  0.928038       antigua\n",
       "0         3  0.673068       anuncia\n",
       "122       1  0.928038  arqueológico\n",
       "...     ...       ...           ...\n",
       "71        2  0.955501         serie\n",
       "114       2  0.955502         sonda\n",
       "140       2  0.955500     vehículos\n",
       "31        2  0.955502      vínculos\n",
       "134       3  0.996498        éxitos\n",
       "\n",
       "[105 rows x 3 columns], R=30, lambda_step=0.01, plot_opts={'xlab': 'PC1', 'ylab': 'PC2'}, topic_order=[3, 2, 1])"
      ]
     },
     "execution_count": 87,
     "metadata": {},
     "output_type": "execute_result"
    }
   ],
   "source": [
    "vis"
   ]
  },
  {
   "cell_type": "markdown",
   "id": "6931aa36-0961-4c10-8438-0c47546585aa",
   "metadata": {},
   "source": [
    "## Conclusiones"
   ]
  },
  {
   "cell_type": "markdown",
   "id": "4617bf7e-2150-440b-9126-607ee948826d",
   "metadata": {},
   "source": [
    "---- Algunas palabras claves cambian en cada Run All ----\n",
    "\n",
    "A continuación, se presentan las interpretaciones de cada uno de estos temas:\n",
    "\n",
    "- Tema 0 - Tema de Entretenimiento y Cultura:\n",
    "Este tema parece estar relacionado con noticias de entretenimiento y cultura. Las palabras clave \"española\", \"lanzamiento\", \"gana\" y \"película\" sugieren que este tema podría centrarse en películas españolas y su éxito, incluido el lanzamiento de una película que ha ganado un premio. También se mencionan vehículos eléctricos, lo que podría estar relacionado con películas o documentales sobre la adopción de vehículos eléctricos en la cultura contemporánea.\n",
    "\n",
    "- Tema 1 - Tema de Política y Gobierno:\n",
    "Este tema parece estar relacionado con noticias de política y gobierno. Las palabras clave \"nueva\", \"inversión\", \"gobierno\" y \"anuncia\" indican que se trata de anuncios gubernamentales de nuevas inversiones o políticas. Es posible que este tema aborde temas como reformas gubernamentales, inversiones en infraestructura y anuncios políticos relevantes.\n",
    "\n",
    "- Tema 2 - Tema de Arqueología e Historia:\n",
    "Este tema parece estar relacionado con noticias relacionadas con la arqueología e historia. Las palabras clave \"revela\", \"España\", \"renombre\", \"ibérica\" y \"secretos\" sugieren que se trata de noticias que revelan secretos históricos o descubrimientos en España. Esto podría incluir hallazgos arqueológicos, investigaciones sobre la historia de la península ibérica y eventos relacionados con el patrimonio cultural y arqueológico.\n",
    "\n",
    "Es importante recordar que estas interpretaciones se basan en las palabras clave identificadas por el algoritmo LDA y pueden no ser completamente precisas. La interpretación de los temas es un proceso subjetivo y requiere un conocimiento contextual más profundo para comprender completamente el significado de cada tema. El ajuste de hiperparámetros y la exploración adicional del corpus pueden mejorar la precisión de las interpretaciones de los temas latentes."
   ]
  }
 ],
 "metadata": {
  "kernelspec": {
   "display_name": "Python 3 (ipykernel)",
   "language": "python",
   "name": "python3"
  },
  "language_info": {
   "codemirror_mode": {
    "name": "ipython",
    "version": 3
   },
   "file_extension": ".py",
   "mimetype": "text/x-python",
   "name": "python",
   "nbconvert_exporter": "python",
   "pygments_lexer": "ipython3",
   "version": "3.10.5"
  }
 },
 "nbformat": 4,
 "nbformat_minor": 5
}
