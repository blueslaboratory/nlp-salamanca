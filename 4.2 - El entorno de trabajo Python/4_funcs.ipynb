{
 "cells": [
  {
   "cell_type": "code",
   "execution_count": 1,
   "metadata": {},
   "outputs": [
    {
     "name": "stdout",
     "output_type": "stream",
     "text": [
      "El cuadrado de 7 es 49\n"
     ]
    }
   ],
   "source": [
    "# Definir una función para calcular el cuadrado de un número\n",
    "def calcular_cuadrado(numero):\n",
    "    cuadrado = numero ** 2\n",
    "    return cuadrado\n",
    "\n",
    "# Llamar a la función e imprimir el resultado\n",
    "numero = 7\n",
    "resultado = calcular_cuadrado(numero)\n",
    "print(\"El cuadrado de\", numero, \"es\", resultado)\n"
   ]
  }
 ],
 "metadata": {
  "kernelspec": {
   "display_name": "Python 3",
   "language": "python",
   "name": "python3"
  },
  "language_info": {
   "codemirror_mode": {
    "name": "ipython",
    "version": 3
   },
   "file_extension": ".py",
   "mimetype": "text/x-python",
   "name": "python",
   "nbconvert_exporter": "python",
   "pygments_lexer": "ipython3",
   "version": "3.10.7"
  }
 },
 "nbformat": 4,
 "nbformat_minor": 2
}
