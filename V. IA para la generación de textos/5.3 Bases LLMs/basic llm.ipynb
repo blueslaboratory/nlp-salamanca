{
 "cells": [
  {
   "cell_type": "code",
   "execution_count": 5,
   "metadata": {},
   "outputs": [],
   "source": [
    "# 26/01/2024\n",
    "# Toy-Model\n",
    "\n",
    "# Lee el contenido del archivo con el texto de Don Quijote\n",
    "with open('don_quijote.txt', 'r', encoding='utf-8') as file:\n",
    "    text = file.read()\n",
    "\n",
    "# Utilizamos las 100000 palabras del texto, en minúsculas\n",
    "words = text.lower().split()[:100000]\n",
    "\n",
    "# Preparamos un diccionario que recordará las palabras que siguen a una dada, contando frecuencias\n",
    "d = {}\n",
    "\n",
    "\n",
    "# zip(words[:-1], words[1:]) emparejará cada elemento en words[:-1] con el siguiente elemento en words[1:]\n",
    "# En el bucle for, a y b representan dos elementos consecutivos de la lista words.\n",
    "\n",
    "# Por ejemplo, si words es ['Hola', 'mundo', 'bonito'], entonces zip(words[:-1], words[1:]) \n",
    "# words[:-1] --> ['Hola', 'mundo']\n",
    "# words[1:]  --> ['mundo', 'bonito']\n",
    "\n",
    "# producirá la siguiente secuencia de tuplas: ('Hola', 'mundo'), ('mundo', 'bonito').\n",
    "\n",
    "# Para cada palabra a seguida por otra b\n",
    "for a,b in zip(words[:-1], words[1:]):\n",
    "    # Si nunca ha salido la palabra, anotamos la transición a -> b\n",
    "    if a not in d:\n",
    "        d[a] = {b:1}\n",
    "    else:\n",
    "        # Si no habiamos ido de a hacia b, anotamos la transición a -> b con cuenta 1\n",
    "        if b not in d[a]:\n",
    "            d[a][b] = 1\n",
    "        else:\n",
    "            # Si ya estaba, aumentamos la cuenta\n",
    "            d[a][b] += 1"
   ]
  },
  {
   "cell_type": "code",
   "execution_count": 6,
   "metadata": {},
   "outputs": [
    {
     "data": {
      "text/plain": [
       "{'hidalgo': 15,\n",
       " 'acertare': 1,\n",
       " 'don': 1,\n",
       " 'caballero': 2,\n",
       " 'hidalgo,': 1,\n",
       " 'poeta': 1}"
      ]
     },
     "execution_count": 6,
     "metadata": {},
     "output_type": "execute_result"
    }
   ],
   "source": [
    "# Por ejemplo, consultamos qué palabras  siguen a \"ingenioso\" y con qué frecuencia\n",
    "d[\"ingenioso\"]"
   ]
  },
  {
   "cell_type": "code",
   "execution_count": 8,
   "metadata": {},
   "outputs": [
    {
     "name": "stdout",
     "output_type": "stream",
     "text": [
      "el pecho, que suele llamar sartenes las que los circunstantes; y, mirándole estaban todos los habréis hallado escrito el mundo. sucedió, pues, la mesa, y veinte y mandaron que por no comamos buenas partes y todos a la duquesa- que medianas nueces, y quizá no me ha de palos que, de don quijote escuchando leer: que esto era de güevos, y poco que se comenzara. y, con los que en una, y fingió desmayarse, y es la intención se me deje gozar, que se llega, me parece, y trazas, contrarias unas ovejas; y, diciendo esto, llegó a subir don quijote de\n"
     ]
    }
   ],
   "source": [
    "# 26/01/2024\n",
    "# Basic Random LLM (Toy-Model)\n",
    "'''\n",
    "Partiendo de una determinada palabra, escogemos la siguiente de forma aleatoria y generamos texto\n",
    "'''\n",
    "\n",
    "# Biblioteca para generar números pseudoaleatorios\n",
    "import random\n",
    "# Fijamos una semilla por reproducibilidad\n",
    "random.seed(5)\n",
    "\n",
    "# Escogemos una palabra inicial\n",
    "chain=[\"el\"]\n",
    "\n",
    "# Generemos 100 palabras\n",
    "for _ in range(100):\n",
    "    # Buscamos las palabras que han seguido a la que tenemos al final de la lista\n",
    "    candidates = d[chain[-1]]\n",
    "    # Escogemos una al azar, usando como pesos las frecuencias\n",
    "    chain.append(random.choices(population=list(candidates.keys()),\n",
    "                                weights=list(candidates.values()))[0])\n",
    "\n",
    "# Mostramos el resultado\n",
    "print(\" \".join(chain))"
   ]
  }
 ],
 "metadata": {
  "kernelspec": {
   "display_name": "Python 3",
   "language": "python",
   "name": "python3"
  },
  "language_info": {
   "codemirror_mode": {
    "name": "ipython",
    "version": 3
   },
   "file_extension": ".py",
   "mimetype": "text/x-python",
   "name": "python",
   "nbconvert_exporter": "python",
   "pygments_lexer": "ipython3",
   "version": "3.10.5"
  }
 },
 "nbformat": 4,
 "nbformat_minor": 2
}
